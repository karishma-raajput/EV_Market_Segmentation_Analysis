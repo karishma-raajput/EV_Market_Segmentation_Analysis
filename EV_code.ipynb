{
 "cells": [
  {
   "cell_type": "code",
   "execution_count": 1,
   "id": "704e21f7-fa10-42ef-b3d7-85e79155d459",
   "metadata": {},
   "outputs": [],
   "source": [
    "import pandas as pd\n",
    "import numpy as np\n",
    "import matplotlib.pyplot as plt\n",
    "import seaborn as sns\n",
    "import warnings\n",
    "warnings.filterwarnings('ignore')\n",
    "pd.set_option('display.max_columns',None)\n",
    "pd.set_option('display.max_rows',None)"
   ]
  },
  {
   "cell_type": "code",
   "execution_count": 3,
   "id": "02668296-8b48-4d04-a828-3e3382ab10e8",
   "metadata": {},
   "outputs": [
    {
     "name": "stdout",
     "output_type": "stream",
     "text": [
      "datsets has been imported\n"
     ]
    }
   ],
   "source": [
    "data=pd.read_csv(\"C:/Users/HP/Downloads/feyyn labs 3rd project/Electric_Vehicle_Data.csv\")\n",
    "print(\"datsets has been imported\")"
   ]
  },
  {
   "cell_type": "code",
   "execution_count": 5,
   "id": "e7dbd977-dade-4e63-ad1c-877bdece5b75",
   "metadata": {},
   "outputs": [
    {
     "data": {
      "text/html": [
       "<div>\n",
       "<style scoped>\n",
       "    .dataframe tbody tr th:only-of-type {\n",
       "        vertical-align: middle;\n",
       "    }\n",
       "\n",
       "    .dataframe tbody tr th {\n",
       "        vertical-align: top;\n",
       "    }\n",
       "\n",
       "    .dataframe thead th {\n",
       "        text-align: right;\n",
       "    }\n",
       "</style>\n",
       "<table border=\"1\" class=\"dataframe\">\n",
       "  <thead>\n",
       "    <tr style=\"text-align: right;\">\n",
       "      <th></th>\n",
       "      <th>Unnamed: 0</th>\n",
       "      <th>Age</th>\n",
       "      <th>City</th>\n",
       "      <th>Profession</th>\n",
       "      <th>Marital Status</th>\n",
       "      <th>Education</th>\n",
       "      <th>No. of Family members</th>\n",
       "      <th>Annual Income</th>\n",
       "      <th>Would you prefer replacing all your vehicles to Electronic vehicles?</th>\n",
       "      <th>If Yes/Maybe what type of  EV would you prefer?</th>\n",
       "      <th>Do you think Electronic Vehicles are economical?</th>\n",
       "      <th>Which brand of vehicle do you currently own?</th>\n",
       "      <th>How much money could you spend on an Electronic vehicle?</th>\n",
       "      <th>Preference for wheels in EV</th>\n",
       "      <th>Do you think Electronic vehicles will replace fuel cars in India?</th>\n",
       "    </tr>\n",
       "  </thead>\n",
       "  <tbody>\n",
       "    <tr>\n",
       "      <th>0</th>\n",
       "      <td>0</td>\n",
       "      <td>30</td>\n",
       "      <td>Nabha</td>\n",
       "      <td>NaN</td>\n",
       "      <td>Single</td>\n",
       "      <td>Graduate</td>\n",
       "      <td>5</td>\n",
       "      <td>1.193876e+06</td>\n",
       "      <td>Maybe</td>\n",
       "      <td>SUV</td>\n",
       "      <td>Yes</td>\n",
       "      <td>Hyundai</td>\n",
       "      <td>&lt;5 lakhs</td>\n",
       "      <td>2</td>\n",
       "      <td>I don't think so</td>\n",
       "    </tr>\n",
       "    <tr>\n",
       "      <th>1</th>\n",
       "      <td>1</td>\n",
       "      <td>27</td>\n",
       "      <td>Pune</td>\n",
       "      <td>NaN</td>\n",
       "      <td>Single</td>\n",
       "      <td>Graduate</td>\n",
       "      <td>4</td>\n",
       "      <td>1.844540e+06</td>\n",
       "      <td>Yes</td>\n",
       "      <td>SUV</td>\n",
       "      <td>Yes</td>\n",
       "      <td>Honda</td>\n",
       "      <td>&lt;15 lakhs</td>\n",
       "      <td>4</td>\n",
       "      <td>Yes, in &lt;20years</td>\n",
       "    </tr>\n",
       "    <tr>\n",
       "      <th>2</th>\n",
       "      <td>2</td>\n",
       "      <td>32</td>\n",
       "      <td>Kashipur</td>\n",
       "      <td>NaN</td>\n",
       "      <td>Single</td>\n",
       "      <td>Graduate</td>\n",
       "      <td>4</td>\n",
       "      <td>2.948150e+06</td>\n",
       "      <td>Yes</td>\n",
       "      <td>Hatchback</td>\n",
       "      <td>Yes</td>\n",
       "      <td>KIA</td>\n",
       "      <td>&lt;15 lakhs</td>\n",
       "      <td>4</td>\n",
       "      <td>Yes, in &lt;20years</td>\n",
       "    </tr>\n",
       "    <tr>\n",
       "      <th>3</th>\n",
       "      <td>3</td>\n",
       "      <td>55</td>\n",
       "      <td>Pune</td>\n",
       "      <td>Business</td>\n",
       "      <td>Single</td>\n",
       "      <td>Graduate</td>\n",
       "      <td>3</td>\n",
       "      <td>2.832380e+06</td>\n",
       "      <td>Maybe</td>\n",
       "      <td>Hatchback</td>\n",
       "      <td>No</td>\n",
       "      <td>Hyundai</td>\n",
       "      <td>&lt;5 lakhs</td>\n",
       "      <td>4</td>\n",
       "      <td>Yes, in &lt;10 years</td>\n",
       "    </tr>\n",
       "    <tr>\n",
       "      <th>4</th>\n",
       "      <td>4</td>\n",
       "      <td>26</td>\n",
       "      <td>Satara</td>\n",
       "      <td>NaN</td>\n",
       "      <td>Single</td>\n",
       "      <td>Graduate</td>\n",
       "      <td>4</td>\n",
       "      <td>2.638751e+06</td>\n",
       "      <td>Yes</td>\n",
       "      <td>Sedan</td>\n",
       "      <td>Yes</td>\n",
       "      <td>McLaren</td>\n",
       "      <td>&lt;15 lakhs</td>\n",
       "      <td>4</td>\n",
       "      <td>Yes, in &lt;20years</td>\n",
       "    </tr>\n",
       "  </tbody>\n",
       "</table>\n",
       "</div>"
      ],
      "text/plain": [
       "   Unnamed: 0  Age       City Profession Marital Status Education  \\\n",
       "0           0   30      Nabha        NaN         Single  Graduate   \n",
       "1           1   27       Pune        NaN         Single  Graduate   \n",
       "2           2   32  Kashipur         NaN         Single  Graduate   \n",
       "3           3   55       Pune   Business         Single  Graduate   \n",
       "4           4   26     Satara        NaN         Single  Graduate   \n",
       "\n",
       "   No. of Family members  Annual Income  \\\n",
       "0                      5   1.193876e+06   \n",
       "1                      4   1.844540e+06   \n",
       "2                      4   2.948150e+06   \n",
       "3                      3   2.832380e+06   \n",
       "4                      4   2.638751e+06   \n",
       "\n",
       "  Would you prefer replacing all your vehicles to Electronic vehicles?  \\\n",
       "0                                              Maybe                     \n",
       "1                                                Yes                     \n",
       "2                                                Yes                     \n",
       "3                                              Maybe                     \n",
       "4                                                Yes                     \n",
       "\n",
       "  If Yes/Maybe what type of  EV would you prefer?  \\\n",
       "0                                             SUV   \n",
       "1                                             SUV   \n",
       "2                                       Hatchback   \n",
       "3                                       Hatchback   \n",
       "4                                           Sedan   \n",
       "\n",
       "  Do you think Electronic Vehicles are economical?  \\\n",
       "0                                              Yes   \n",
       "1                                              Yes   \n",
       "2                                              Yes   \n",
       "3                                               No   \n",
       "4                                              Yes   \n",
       "\n",
       "  Which brand of vehicle do you currently own?  \\\n",
       "0                                      Hyundai   \n",
       "1                                        Honda   \n",
       "2                                          KIA   \n",
       "3                                      Hyundai   \n",
       "4                                     McLaren    \n",
       "\n",
       "  How much money could you spend on an Electronic vehicle?  \\\n",
       "0                                           <5 lakhs         \n",
       "1                                          <15 lakhs         \n",
       "2                                          <15 lakhs         \n",
       "3                                           <5 lakhs         \n",
       "4                                          <15 lakhs         \n",
       "\n",
       "   Preference for wheels in EV  \\\n",
       "0                            2   \n",
       "1                            4   \n",
       "2                            4   \n",
       "3                            4   \n",
       "4                            4   \n",
       "\n",
       "  Do you think Electronic vehicles will replace fuel cars in India?  \n",
       "0                                   I don't think so                 \n",
       "1                                   Yes, in <20years                 \n",
       "2                                   Yes, in <20years                 \n",
       "3                                  Yes, in <10 years                 \n",
       "4                                   Yes, in <20years                 "
      ]
     },
     "execution_count": 5,
     "metadata": {},
     "output_type": "execute_result"
    }
   ],
   "source": [
    "data_copy=data\n",
    "data.head()"
   ]
  },
  {
   "cell_type": "code",
   "execution_count": 7,
   "id": "307732a8-c5d3-4c0e-9351-d9ed96e255dc",
   "metadata": {},
   "outputs": [],
   "source": [
    "data['Profession'].fillna('None', inplace=True)"
   ]
  },
  {
   "cell_type": "code",
   "execution_count": 9,
   "id": "b2662097-3e70-45df-ac37-66bbac8a687d",
   "metadata": {},
   "outputs": [
    {
     "data": {
      "text/html": [
       "<div>\n",
       "<style scoped>\n",
       "    .dataframe tbody tr th:only-of-type {\n",
       "        vertical-align: middle;\n",
       "    }\n",
       "\n",
       "    .dataframe tbody tr th {\n",
       "        vertical-align: top;\n",
       "    }\n",
       "\n",
       "    .dataframe thead th {\n",
       "        text-align: right;\n",
       "    }\n",
       "</style>\n",
       "<table border=\"1\" class=\"dataframe\">\n",
       "  <thead>\n",
       "    <tr style=\"text-align: right;\">\n",
       "      <th></th>\n",
       "      <th>Unnamed: 0</th>\n",
       "      <th>Age</th>\n",
       "      <th>City</th>\n",
       "      <th>Profession</th>\n",
       "      <th>Marital Status</th>\n",
       "      <th>Education</th>\n",
       "      <th>No. of Family members</th>\n",
       "      <th>Annual Income</th>\n",
       "      <th>Would you prefer replacing all your vehicles to Electronic vehicles?</th>\n",
       "      <th>If Yes/Maybe what type of  EV would you prefer?</th>\n",
       "      <th>Do you think Electronic Vehicles are economical?</th>\n",
       "      <th>Which brand of vehicle do you currently own?</th>\n",
       "      <th>How much money could you spend on an Electronic vehicle?</th>\n",
       "      <th>Preference for wheels in EV</th>\n",
       "      <th>Do you think Electronic vehicles will replace fuel cars in India?</th>\n",
       "    </tr>\n",
       "  </thead>\n",
       "  <tbody>\n",
       "    <tr>\n",
       "      <th>0</th>\n",
       "      <td>0</td>\n",
       "      <td>30</td>\n",
       "      <td>Nabha</td>\n",
       "      <td>None</td>\n",
       "      <td>Single</td>\n",
       "      <td>Graduate</td>\n",
       "      <td>5</td>\n",
       "      <td>1.193876e+06</td>\n",
       "      <td>Maybe</td>\n",
       "      <td>SUV</td>\n",
       "      <td>Yes</td>\n",
       "      <td>Hyundai</td>\n",
       "      <td>&lt;5 lakhs</td>\n",
       "      <td>2</td>\n",
       "      <td>I don't think so</td>\n",
       "    </tr>\n",
       "    <tr>\n",
       "      <th>1</th>\n",
       "      <td>1</td>\n",
       "      <td>27</td>\n",
       "      <td>Pune</td>\n",
       "      <td>None</td>\n",
       "      <td>Single</td>\n",
       "      <td>Graduate</td>\n",
       "      <td>4</td>\n",
       "      <td>1.844540e+06</td>\n",
       "      <td>Yes</td>\n",
       "      <td>SUV</td>\n",
       "      <td>Yes</td>\n",
       "      <td>Honda</td>\n",
       "      <td>&lt;15 lakhs</td>\n",
       "      <td>4</td>\n",
       "      <td>Yes, in &lt;20years</td>\n",
       "    </tr>\n",
       "    <tr>\n",
       "      <th>2</th>\n",
       "      <td>2</td>\n",
       "      <td>32</td>\n",
       "      <td>Kashipur</td>\n",
       "      <td>None</td>\n",
       "      <td>Single</td>\n",
       "      <td>Graduate</td>\n",
       "      <td>4</td>\n",
       "      <td>2.948150e+06</td>\n",
       "      <td>Yes</td>\n",
       "      <td>Hatchback</td>\n",
       "      <td>Yes</td>\n",
       "      <td>KIA</td>\n",
       "      <td>&lt;15 lakhs</td>\n",
       "      <td>4</td>\n",
       "      <td>Yes, in &lt;20years</td>\n",
       "    </tr>\n",
       "    <tr>\n",
       "      <th>3</th>\n",
       "      <td>3</td>\n",
       "      <td>55</td>\n",
       "      <td>Pune</td>\n",
       "      <td>Business</td>\n",
       "      <td>Single</td>\n",
       "      <td>Graduate</td>\n",
       "      <td>3</td>\n",
       "      <td>2.832380e+06</td>\n",
       "      <td>Maybe</td>\n",
       "      <td>Hatchback</td>\n",
       "      <td>No</td>\n",
       "      <td>Hyundai</td>\n",
       "      <td>&lt;5 lakhs</td>\n",
       "      <td>4</td>\n",
       "      <td>Yes, in &lt;10 years</td>\n",
       "    </tr>\n",
       "    <tr>\n",
       "      <th>4</th>\n",
       "      <td>4</td>\n",
       "      <td>26</td>\n",
       "      <td>Satara</td>\n",
       "      <td>None</td>\n",
       "      <td>Single</td>\n",
       "      <td>Graduate</td>\n",
       "      <td>4</td>\n",
       "      <td>2.638751e+06</td>\n",
       "      <td>Yes</td>\n",
       "      <td>Sedan</td>\n",
       "      <td>Yes</td>\n",
       "      <td>McLaren</td>\n",
       "      <td>&lt;15 lakhs</td>\n",
       "      <td>4</td>\n",
       "      <td>Yes, in &lt;20years</td>\n",
       "    </tr>\n",
       "  </tbody>\n",
       "</table>\n",
       "</div>"
      ],
      "text/plain": [
       "   Unnamed: 0  Age       City Profession Marital Status Education  \\\n",
       "0           0   30      Nabha       None         Single  Graduate   \n",
       "1           1   27       Pune       None         Single  Graduate   \n",
       "2           2   32  Kashipur        None         Single  Graduate   \n",
       "3           3   55       Pune   Business         Single  Graduate   \n",
       "4           4   26     Satara       None         Single  Graduate   \n",
       "\n",
       "   No. of Family members  Annual Income  \\\n",
       "0                      5   1.193876e+06   \n",
       "1                      4   1.844540e+06   \n",
       "2                      4   2.948150e+06   \n",
       "3                      3   2.832380e+06   \n",
       "4                      4   2.638751e+06   \n",
       "\n",
       "  Would you prefer replacing all your vehicles to Electronic vehicles?  \\\n",
       "0                                              Maybe                     \n",
       "1                                                Yes                     \n",
       "2                                                Yes                     \n",
       "3                                              Maybe                     \n",
       "4                                                Yes                     \n",
       "\n",
       "  If Yes/Maybe what type of  EV would you prefer?  \\\n",
       "0                                             SUV   \n",
       "1                                             SUV   \n",
       "2                                       Hatchback   \n",
       "3                                       Hatchback   \n",
       "4                                           Sedan   \n",
       "\n",
       "  Do you think Electronic Vehicles are economical?  \\\n",
       "0                                              Yes   \n",
       "1                                              Yes   \n",
       "2                                              Yes   \n",
       "3                                               No   \n",
       "4                                              Yes   \n",
       "\n",
       "  Which brand of vehicle do you currently own?  \\\n",
       "0                                      Hyundai   \n",
       "1                                        Honda   \n",
       "2                                          KIA   \n",
       "3                                      Hyundai   \n",
       "4                                     McLaren    \n",
       "\n",
       "  How much money could you spend on an Electronic vehicle?  \\\n",
       "0                                           <5 lakhs         \n",
       "1                                          <15 lakhs         \n",
       "2                                          <15 lakhs         \n",
       "3                                           <5 lakhs         \n",
       "4                                          <15 lakhs         \n",
       "\n",
       "   Preference for wheels in EV  \\\n",
       "0                            2   \n",
       "1                            4   \n",
       "2                            4   \n",
       "3                            4   \n",
       "4                            4   \n",
       "\n",
       "  Do you think Electronic vehicles will replace fuel cars in India?  \n",
       "0                                   I don't think so                 \n",
       "1                                   Yes, in <20years                 \n",
       "2                                   Yes, in <20years                 \n",
       "3                                  Yes, in <10 years                 \n",
       "4                                   Yes, in <20years                 "
      ]
     },
     "execution_count": 9,
     "metadata": {},
     "output_type": "execute_result"
    }
   ],
   "source": [
    "data.head()"
   ]
  },
  {
   "cell_type": "code",
   "execution_count": 11,
   "id": "09939285-b0ae-4ef8-bf6d-454636ae7c2e",
   "metadata": {},
   "outputs": [
    {
     "name": "stdout",
     "output_type": "stream",
     "text": [
      "<class 'pandas.core.frame.DataFrame'>\n",
      "RangeIndex: 1000 entries, 0 to 999\n",
      "Data columns (total 15 columns):\n",
      " #   Column                                                                Non-Null Count  Dtype  \n",
      "---  ------                                                                --------------  -----  \n",
      " 0   Unnamed: 0                                                            1000 non-null   int64  \n",
      " 1   Age                                                                   1000 non-null   int64  \n",
      " 2   City                                                                  1000 non-null   object \n",
      " 3   Profession                                                            1000 non-null   object \n",
      " 4   Marital Status                                                        1000 non-null   object \n",
      " 5   Education                                                             1000 non-null   object \n",
      " 6   No. of Family members                                                 1000 non-null   int64  \n",
      " 7   Annual Income                                                         1000 non-null   float64\n",
      " 8   Would you prefer replacing all your vehicles to Electronic vehicles?  1000 non-null   object \n",
      " 9   If Yes/Maybe what type of  EV would you prefer?                       1000 non-null   object \n",
      " 10  Do you think Electronic Vehicles are economical?                      1000 non-null   object \n",
      " 11  Which brand of vehicle do you currently own?                          1000 non-null   object \n",
      " 12  How much money could you spend on an Electronic vehicle?              1000 non-null   object \n",
      " 13  Preference for wheels in EV                                           1000 non-null   int64  \n",
      " 14  Do you think Electronic vehicles will replace fuel cars in India?     1000 non-null   object \n",
      "dtypes: float64(1), int64(4), object(10)\n",
      "memory usage: 117.3+ KB\n"
     ]
    }
   ],
   "source": [
    "data.info()"
   ]
  },
  {
   "cell_type": "code",
   "execution_count": 13,
   "id": "182fb7c7-a761-4219-aa63-02873b6b0172",
   "metadata": {},
   "outputs": [
    {
     "data": {
      "text/html": [
       "<div>\n",
       "<style scoped>\n",
       "    .dataframe tbody tr th:only-of-type {\n",
       "        vertical-align: middle;\n",
       "    }\n",
       "\n",
       "    .dataframe tbody tr th {\n",
       "        vertical-align: top;\n",
       "    }\n",
       "\n",
       "    .dataframe thead th {\n",
       "        text-align: right;\n",
       "    }\n",
       "</style>\n",
       "<table border=\"1\" class=\"dataframe\">\n",
       "  <thead>\n",
       "    <tr style=\"text-align: right;\">\n",
       "      <th></th>\n",
       "      <th>Unnamed: 0</th>\n",
       "      <th>Age</th>\n",
       "      <th>No. of Family members</th>\n",
       "      <th>Annual Income</th>\n",
       "      <th>Preference for wheels in EV</th>\n",
       "    </tr>\n",
       "  </thead>\n",
       "  <tbody>\n",
       "    <tr>\n",
       "      <th>count</th>\n",
       "      <td>1000.000000</td>\n",
       "      <td>1000.000000</td>\n",
       "      <td>1000.000000</td>\n",
       "      <td>1.000000e+03</td>\n",
       "      <td>1000.000000</td>\n",
       "    </tr>\n",
       "    <tr>\n",
       "      <th>mean</th>\n",
       "      <td>499.500000</td>\n",
       "      <td>31.800000</td>\n",
       "      <td>4.118000</td>\n",
       "      <td>2.258342e+06</td>\n",
       "      <td>3.349000</td>\n",
       "    </tr>\n",
       "    <tr>\n",
       "      <th>std</th>\n",
       "      <td>288.819436</td>\n",
       "      <td>11.294847</td>\n",
       "      <td>1.469774</td>\n",
       "      <td>9.993558e+05</td>\n",
       "      <td>0.887686</td>\n",
       "    </tr>\n",
       "    <tr>\n",
       "      <th>min</th>\n",
       "      <td>0.000000</td>\n",
       "      <td>15.000000</td>\n",
       "      <td>0.000000</td>\n",
       "      <td>-3.761509e+05</td>\n",
       "      <td>2.000000</td>\n",
       "    </tr>\n",
       "    <tr>\n",
       "      <th>25%</th>\n",
       "      <td>249.750000</td>\n",
       "      <td>26.000000</td>\n",
       "      <td>4.000000</td>\n",
       "      <td>1.782116e+06</td>\n",
       "      <td>2.000000</td>\n",
       "    </tr>\n",
       "    <tr>\n",
       "      <th>50%</th>\n",
       "      <td>499.500000</td>\n",
       "      <td>29.000000</td>\n",
       "      <td>4.000000</td>\n",
       "      <td>2.329246e+06</td>\n",
       "      <td>4.000000</td>\n",
       "    </tr>\n",
       "    <tr>\n",
       "      <th>75%</th>\n",
       "      <td>749.250000</td>\n",
       "      <td>31.000000</td>\n",
       "      <td>5.000000</td>\n",
       "      <td>2.753170e+06</td>\n",
       "      <td>4.000000</td>\n",
       "    </tr>\n",
       "    <tr>\n",
       "      <th>max</th>\n",
       "      <td>999.000000</td>\n",
       "      <td>118.000000</td>\n",
       "      <td>8.000000</td>\n",
       "      <td>1.282128e+07</td>\n",
       "      <td>4.000000</td>\n",
       "    </tr>\n",
       "  </tbody>\n",
       "</table>\n",
       "</div>"
      ],
      "text/plain": [
       "        Unnamed: 0          Age  No. of Family members  Annual Income  \\\n",
       "count  1000.000000  1000.000000            1000.000000   1.000000e+03   \n",
       "mean    499.500000    31.800000               4.118000   2.258342e+06   \n",
       "std     288.819436    11.294847               1.469774   9.993558e+05   \n",
       "min       0.000000    15.000000               0.000000  -3.761509e+05   \n",
       "25%     249.750000    26.000000               4.000000   1.782116e+06   \n",
       "50%     499.500000    29.000000               4.000000   2.329246e+06   \n",
       "75%     749.250000    31.000000               5.000000   2.753170e+06   \n",
       "max     999.000000   118.000000               8.000000   1.282128e+07   \n",
       "\n",
       "       Preference for wheels in EV  \n",
       "count                  1000.000000  \n",
       "mean                      3.349000  \n",
       "std                       0.887686  \n",
       "min                       2.000000  \n",
       "25%                       2.000000  \n",
       "50%                       4.000000  \n",
       "75%                       4.000000  \n",
       "max                       4.000000  "
      ]
     },
     "execution_count": 13,
     "metadata": {},
     "output_type": "execute_result"
    }
   ],
   "source": [
    "data.describe()"
   ]
  },
  {
   "cell_type": "code",
   "execution_count": 15,
   "id": "9859a3b8-3d94-40f1-8894-9ce3a32fcb65",
   "metadata": {},
   "outputs": [
    {
     "data": {
      "text/html": [
       "<div>\n",
       "<style scoped>\n",
       "    .dataframe tbody tr th:only-of-type {\n",
       "        vertical-align: middle;\n",
       "    }\n",
       "\n",
       "    .dataframe tbody tr th {\n",
       "        vertical-align: top;\n",
       "    }\n",
       "\n",
       "    .dataframe thead th {\n",
       "        text-align: right;\n",
       "    }\n",
       "</style>\n",
       "<table border=\"1\" class=\"dataframe\">\n",
       "  <thead>\n",
       "    <tr style=\"text-align: right;\">\n",
       "      <th></th>\n",
       "      <th>City</th>\n",
       "      <th>Profession</th>\n",
       "      <th>Marital Status</th>\n",
       "      <th>Education</th>\n",
       "      <th>Would you prefer replacing all your vehicles to Electronic vehicles?</th>\n",
       "      <th>If Yes/Maybe what type of  EV would you prefer?</th>\n",
       "      <th>Do you think Electronic Vehicles are economical?</th>\n",
       "      <th>Which brand of vehicle do you currently own?</th>\n",
       "      <th>How much money could you spend on an Electronic vehicle?</th>\n",
       "      <th>Do you think Electronic vehicles will replace fuel cars in India?</th>\n",
       "    </tr>\n",
       "  </thead>\n",
       "  <tbody>\n",
       "    <tr>\n",
       "      <th>count</th>\n",
       "      <td>1000</td>\n",
       "      <td>1000</td>\n",
       "      <td>1000</td>\n",
       "      <td>1000</td>\n",
       "      <td>1000</td>\n",
       "      <td>1000</td>\n",
       "      <td>1000</td>\n",
       "      <td>1000</td>\n",
       "      <td>1000</td>\n",
       "      <td>1000</td>\n",
       "    </tr>\n",
       "    <tr>\n",
       "      <th>unique</th>\n",
       "      <td>35</td>\n",
       "      <td>4</td>\n",
       "      <td>2</td>\n",
       "      <td>2</td>\n",
       "      <td>3</td>\n",
       "      <td>5</td>\n",
       "      <td>3</td>\n",
       "      <td>16</td>\n",
       "      <td>8</td>\n",
       "      <td>4</td>\n",
       "    </tr>\n",
       "    <tr>\n",
       "      <th>top</th>\n",
       "      <td>Pune</td>\n",
       "      <td>None</td>\n",
       "      <td>Single</td>\n",
       "      <td>Graduate</td>\n",
       "      <td>Yes</td>\n",
       "      <td>SUV</td>\n",
       "      <td>Yes</td>\n",
       "      <td>Tata</td>\n",
       "      <td>&lt;15 lakhs</td>\n",
       "      <td>Yes, in &lt;10 years</td>\n",
       "    </tr>\n",
       "    <tr>\n",
       "      <th>freq</th>\n",
       "      <td>570</td>\n",
       "      <td>460</td>\n",
       "      <td>638</td>\n",
       "      <td>693</td>\n",
       "      <td>663</td>\n",
       "      <td>467</td>\n",
       "      <td>768</td>\n",
       "      <td>186</td>\n",
       "      <td>483</td>\n",
       "      <td>419</td>\n",
       "    </tr>\n",
       "  </tbody>\n",
       "</table>\n",
       "</div>"
      ],
      "text/plain": [
       "        City Profession Marital Status Education  \\\n",
       "count   1000       1000           1000      1000   \n",
       "unique    35          4              2         2   \n",
       "top     Pune       None         Single  Graduate   \n",
       "freq     570        460            638       693   \n",
       "\n",
       "       Would you prefer replacing all your vehicles to Electronic vehicles?  \\\n",
       "count                                                1000                     \n",
       "unique                                                  3                     \n",
       "top                                                   Yes                     \n",
       "freq                                                  663                     \n",
       "\n",
       "       If Yes/Maybe what type of  EV would you prefer?  \\\n",
       "count                                             1000   \n",
       "unique                                               5   \n",
       "top                                                SUV   \n",
       "freq                                               467   \n",
       "\n",
       "       Do you think Electronic Vehicles are economical?  \\\n",
       "count                                              1000   \n",
       "unique                                                3   \n",
       "top                                                 Yes   \n",
       "freq                                                768   \n",
       "\n",
       "       Which brand of vehicle do you currently own?  \\\n",
       "count                                          1000   \n",
       "unique                                           16   \n",
       "top                                            Tata   \n",
       "freq                                            186   \n",
       "\n",
       "       How much money could you spend on an Electronic vehicle?  \\\n",
       "count                                                1000         \n",
       "unique                                                  8         \n",
       "top                                             <15 lakhs         \n",
       "freq                                                  483         \n",
       "\n",
       "       Do you think Electronic vehicles will replace fuel cars in India?  \n",
       "count                                                1000                 \n",
       "unique                                                  4                 \n",
       "top                                     Yes, in <10 years                 \n",
       "freq                                                  419                 "
      ]
     },
     "execution_count": 15,
     "metadata": {},
     "output_type": "execute_result"
    }
   ],
   "source": [
    "data.describe(include=\"object\")"
   ]
  },
  {
   "cell_type": "code",
   "execution_count": 17,
   "id": "a8998d15-70b1-4b05-9aa8-d944d76ae383",
   "metadata": {},
   "outputs": [
    {
     "data": {
      "text/plain": [
       "Index(['Unnamed: 0', 'Age', 'City', 'Profession', 'Marital Status',\n",
       "       'Education', 'No. of Family members', 'Annual Income',\n",
       "       'Would you prefer replacing all your vehicles to Electronic vehicles?',\n",
       "       'If Yes/Maybe what type of  EV would you prefer?',\n",
       "       'Do you think Electronic Vehicles are economical?',\n",
       "       'Which brand of vehicle do you currently own?',\n",
       "       'How much money could you spend on an Electronic vehicle?',\n",
       "       'Preference for wheels in EV',\n",
       "       'Do you think Electronic vehicles will replace fuel cars in India?'],\n",
       "      dtype='object')"
      ]
     },
     "execution_count": 17,
     "metadata": {},
     "output_type": "execute_result"
    }
   ],
   "source": [
    "data.columns"
   ]
  },
  {
   "cell_type": "code",
   "execution_count": 19,
   "id": "0487e762-b2b9-4b7b-8126-30c496f9fc9f",
   "metadata": {},
   "outputs": [],
   "source": [
    "data=data.drop(\"Unnamed: 0\",axis=1)"
   ]
  },
  {
   "cell_type": "code",
   "execution_count": 21,
   "id": "dae040be-2685-41dd-8e68-390920ffd8e9",
   "metadata": {},
   "outputs": [
    {
     "data": {
      "text/html": [
       "<div>\n",
       "<style scoped>\n",
       "    .dataframe tbody tr th:only-of-type {\n",
       "        vertical-align: middle;\n",
       "    }\n",
       "\n",
       "    .dataframe tbody tr th {\n",
       "        vertical-align: top;\n",
       "    }\n",
       "\n",
       "    .dataframe thead th {\n",
       "        text-align: right;\n",
       "    }\n",
       "</style>\n",
       "<table border=\"1\" class=\"dataframe\">\n",
       "  <thead>\n",
       "    <tr style=\"text-align: right;\">\n",
       "      <th></th>\n",
       "      <th>Age</th>\n",
       "      <th>City</th>\n",
       "      <th>Profession</th>\n",
       "      <th>Marital Status</th>\n",
       "      <th>Education</th>\n",
       "      <th>No. of Family members</th>\n",
       "      <th>Annual Income</th>\n",
       "      <th>Would you prefer replacing all your vehicles to Electronic vehicles?</th>\n",
       "      <th>If Yes/Maybe what type of  EV would you prefer?</th>\n",
       "      <th>Do you think Electronic Vehicles are economical?</th>\n",
       "      <th>Which brand of vehicle do you currently own?</th>\n",
       "      <th>How much money could you spend on an Electronic vehicle?</th>\n",
       "      <th>Preference for wheels in EV</th>\n",
       "      <th>Do you think Electronic vehicles will replace fuel cars in India?</th>\n",
       "    </tr>\n",
       "  </thead>\n",
       "  <tbody>\n",
       "    <tr>\n",
       "      <th>0</th>\n",
       "      <td>30</td>\n",
       "      <td>Nabha</td>\n",
       "      <td>None</td>\n",
       "      <td>Single</td>\n",
       "      <td>Graduate</td>\n",
       "      <td>5</td>\n",
       "      <td>1.193876e+06</td>\n",
       "      <td>Maybe</td>\n",
       "      <td>SUV</td>\n",
       "      <td>Yes</td>\n",
       "      <td>Hyundai</td>\n",
       "      <td>&lt;5 lakhs</td>\n",
       "      <td>2</td>\n",
       "      <td>I don't think so</td>\n",
       "    </tr>\n",
       "    <tr>\n",
       "      <th>1</th>\n",
       "      <td>27</td>\n",
       "      <td>Pune</td>\n",
       "      <td>None</td>\n",
       "      <td>Single</td>\n",
       "      <td>Graduate</td>\n",
       "      <td>4</td>\n",
       "      <td>1.844540e+06</td>\n",
       "      <td>Yes</td>\n",
       "      <td>SUV</td>\n",
       "      <td>Yes</td>\n",
       "      <td>Honda</td>\n",
       "      <td>&lt;15 lakhs</td>\n",
       "      <td>4</td>\n",
       "      <td>Yes, in &lt;20years</td>\n",
       "    </tr>\n",
       "    <tr>\n",
       "      <th>2</th>\n",
       "      <td>32</td>\n",
       "      <td>Kashipur</td>\n",
       "      <td>None</td>\n",
       "      <td>Single</td>\n",
       "      <td>Graduate</td>\n",
       "      <td>4</td>\n",
       "      <td>2.948150e+06</td>\n",
       "      <td>Yes</td>\n",
       "      <td>Hatchback</td>\n",
       "      <td>Yes</td>\n",
       "      <td>KIA</td>\n",
       "      <td>&lt;15 lakhs</td>\n",
       "      <td>4</td>\n",
       "      <td>Yes, in &lt;20years</td>\n",
       "    </tr>\n",
       "    <tr>\n",
       "      <th>3</th>\n",
       "      <td>55</td>\n",
       "      <td>Pune</td>\n",
       "      <td>Business</td>\n",
       "      <td>Single</td>\n",
       "      <td>Graduate</td>\n",
       "      <td>3</td>\n",
       "      <td>2.832380e+06</td>\n",
       "      <td>Maybe</td>\n",
       "      <td>Hatchback</td>\n",
       "      <td>No</td>\n",
       "      <td>Hyundai</td>\n",
       "      <td>&lt;5 lakhs</td>\n",
       "      <td>4</td>\n",
       "      <td>Yes, in &lt;10 years</td>\n",
       "    </tr>\n",
       "    <tr>\n",
       "      <th>4</th>\n",
       "      <td>26</td>\n",
       "      <td>Satara</td>\n",
       "      <td>None</td>\n",
       "      <td>Single</td>\n",
       "      <td>Graduate</td>\n",
       "      <td>4</td>\n",
       "      <td>2.638751e+06</td>\n",
       "      <td>Yes</td>\n",
       "      <td>Sedan</td>\n",
       "      <td>Yes</td>\n",
       "      <td>McLaren</td>\n",
       "      <td>&lt;15 lakhs</td>\n",
       "      <td>4</td>\n",
       "      <td>Yes, in &lt;20years</td>\n",
       "    </tr>\n",
       "  </tbody>\n",
       "</table>\n",
       "</div>"
      ],
      "text/plain": [
       "   Age       City Profession Marital Status Education  No. of Family members  \\\n",
       "0   30      Nabha       None         Single  Graduate                      5   \n",
       "1   27       Pune       None         Single  Graduate                      4   \n",
       "2   32  Kashipur        None         Single  Graduate                      4   \n",
       "3   55       Pune   Business         Single  Graduate                      3   \n",
       "4   26     Satara       None         Single  Graduate                      4   \n",
       "\n",
       "   Annual Income  \\\n",
       "0   1.193876e+06   \n",
       "1   1.844540e+06   \n",
       "2   2.948150e+06   \n",
       "3   2.832380e+06   \n",
       "4   2.638751e+06   \n",
       "\n",
       "  Would you prefer replacing all your vehicles to Electronic vehicles?  \\\n",
       "0                                              Maybe                     \n",
       "1                                                Yes                     \n",
       "2                                                Yes                     \n",
       "3                                              Maybe                     \n",
       "4                                                Yes                     \n",
       "\n",
       "  If Yes/Maybe what type of  EV would you prefer?  \\\n",
       "0                                             SUV   \n",
       "1                                             SUV   \n",
       "2                                       Hatchback   \n",
       "3                                       Hatchback   \n",
       "4                                           Sedan   \n",
       "\n",
       "  Do you think Electronic Vehicles are economical?  \\\n",
       "0                                              Yes   \n",
       "1                                              Yes   \n",
       "2                                              Yes   \n",
       "3                                               No   \n",
       "4                                              Yes   \n",
       "\n",
       "  Which brand of vehicle do you currently own?  \\\n",
       "0                                      Hyundai   \n",
       "1                                        Honda   \n",
       "2                                          KIA   \n",
       "3                                      Hyundai   \n",
       "4                                     McLaren    \n",
       "\n",
       "  How much money could you spend on an Electronic vehicle?  \\\n",
       "0                                           <5 lakhs         \n",
       "1                                          <15 lakhs         \n",
       "2                                          <15 lakhs         \n",
       "3                                           <5 lakhs         \n",
       "4                                          <15 lakhs         \n",
       "\n",
       "   Preference for wheels in EV  \\\n",
       "0                            2   \n",
       "1                            4   \n",
       "2                            4   \n",
       "3                            4   \n",
       "4                            4   \n",
       "\n",
       "  Do you think Electronic vehicles will replace fuel cars in India?  \n",
       "0                                   I don't think so                 \n",
       "1                                   Yes, in <20years                 \n",
       "2                                   Yes, in <20years                 \n",
       "3                                  Yes, in <10 years                 \n",
       "4                                   Yes, in <20years                 "
      ]
     },
     "execution_count": 21,
     "metadata": {},
     "output_type": "execute_result"
    }
   ],
   "source": [
    "data.head()"
   ]
  },
  {
   "cell_type": "code",
   "execution_count": 23,
   "id": "3b43a638-576d-4902-a249-322f57b65716",
   "metadata": {},
   "outputs": [],
   "source": [
    "#Checking for missing values"
   ]
  },
  {
   "cell_type": "code",
   "execution_count": 25,
   "id": "0981c67c-4e7f-427a-bfd2-2e731f1af86d",
   "metadata": {},
   "outputs": [
    {
     "data": {
      "text/plain": [
       "Age                                                                     0\n",
       "City                                                                    0\n",
       "Profession                                                              0\n",
       "Marital Status                                                          0\n",
       "Education                                                               0\n",
       "No. of Family members                                                   0\n",
       "Annual Income                                                           0\n",
       "Would you prefer replacing all your vehicles to Electronic vehicles?    0\n",
       "If Yes/Maybe what type of  EV would you prefer?                         0\n",
       "Do you think Electronic Vehicles are economical?                        0\n",
       "Which brand of vehicle do you currently own?                            0\n",
       "How much money could you spend on an Electronic vehicle?                0\n",
       "Preference for wheels in EV                                             0\n",
       "Do you think Electronic vehicles will replace fuel cars in India?       0\n",
       "dtype: int64"
      ]
     },
     "execution_count": 25,
     "metadata": {},
     "output_type": "execute_result"
    }
   ],
   "source": [
    "data.isnull().sum()"
   ]
  },
  {
   "cell_type": "code",
   "execution_count": 27,
   "id": "ff3b3247-8170-4f14-92b0-1677474038fb",
   "metadata": {},
   "outputs": [],
   "source": [
    "#Data Visualisation"
   ]
  },
  {
   "cell_type": "code",
   "execution_count": 33,
   "id": "8475331c-bdf9-4463-a8b1-8f8bff6baa58",
   "metadata": {},
   "outputs": [
    {
     "data": {
      "text/plain": [
       "<Axes: xlabel='Age', ylabel='Density'>"
      ]
     },
     "execution_count": 33,
     "metadata": {},
     "output_type": "execute_result"
    },
    {
     "data": {
      "image/png": "[encoded data removed]",
      "text/plain": [
       "<Figure size 600x600 with 1 Axes>"
      ]
     },
     "metadata": {},
     "output_type": "display_data"
    }
   ],
   "source": [
    "plt.figure(figsize=(6,6))\n",
    "sns.distplot(data[\"Age\"],color=\"black\")"
   ]
  },
  {
   "cell_type": "code",
   "execution_count": 35,
   "id": "3cca10d2-c16a-46d2-a294-634205158767",
   "metadata": {},
   "outputs": [
    {
     "data": {
      "text/plain": [
       "<Axes: ylabel='count'>"
      ]
     },
     "execution_count": 35,
     "metadata": {},
     "output_type": "execute_result"
    },
    {
     "data": {
      "image/png": "[encoded data removed]",
      "text/plain": [
       "<Figure size 600x600 with 1 Axes>"
      ]
     },
     "metadata": {},
     "output_type": "display_data"
    }
   ],
   "source": [
    "plt.figure(figsize=(6,6))\n",
    "data[\"Profession\"].value_counts().plot(kind=\"pie\",autopct=\"%0.1f%%\",colors=['yellow','grey','blue','green'])"
   ]
  },
  {
   "cell_type": "code",
   "execution_count": 37,
   "id": "3e294a62-3373-4152-9b0d-a7ad154b35b0",
   "metadata": {},
   "outputs": [
    {
     "data": {
      "text/plain": [
       "<Axes: ylabel='count'>"
      ]
     },
     "execution_count": 37,
     "metadata": {},
     "output_type": "execute_result"
    },
    {
     "data": {
      "image/png": "[encoded data removed]",
      "text/plain": [
       "<Figure size 640x480 with 1 Axes>"
      ]
     },
     "metadata": {},
     "output_type": "display_data"
    }
   ],
   "source": [
    "data[\"Marital Status\"].value_counts().plot(kind=\"pie\",autopct=\"%0.1f%%\",colors=['pink','black'])"
   ]
  },
  {
   "cell_type": "code",
   "execution_count": 39,
   "id": "b39eac34-bf0f-4e15-ae03-ee56326913ca",
   "metadata": {},
   "outputs": [
    {
     "data": {
      "text/plain": [
       "array(['Nabha', 'Pune', 'Kashipur ', 'Satara', 'Noida', 'Delhi', 'Mumbai',\n",
       "       'pune', 'solapur', 'Haldwani ', 'Nellore ', 'Pune ', 'Haldwani',\n",
       "       'Banglore ', 'Faridabad ', 'Nagpur', 'Chandrapur ', 'Chennai',\n",
       "       'Gurugram ', 'Nashik', 'Bengaluru', 'Mumbai ', 'Hakdwani',\n",
       "       'Patiyala', 'pUNE', 'Ahmedabad', 'Karnal', 'Rewari', 'New Delhi',\n",
       "       'Serampore', 'Jhansi', 'New Delhi ', 'Jalandhar', 'Delhi ',\n",
       "       'nashik'], dtype=object)"
      ]
     },
     "execution_count": 39,
     "metadata": {},
     "output_type": "execute_result"
    }
   ],
   "source": [
    "data[\"City\"].unique()"
   ]
  },
  {
   "cell_type": "code",
   "execution_count": 41,
   "id": "c6313573-d884-4243-93e2-9dff0841dfae",
   "metadata": {},
   "outputs": [],
   "source": [
    "data[\"City\"]=data[\"City\"].replace({\"Pune \":\"Pune\",\"pUNE\":\"Pune\",\"pune\":\"Pune\",\"Pune\":\"Pune\"})\n",
    "data[\"City\"]=data[\"City\"].replace({\"Banglore \":\"Bengaluru\"})\n",
    "data[\"City\"]=data[\"City\"].replace({\"Hakdwani\":\"Haldwani\",\"Haldwani \":\"Haldwani\"})\n",
    "data[\"City\"]=data[\"City\"].replace({\"New Delhi \":\"Delhi\",\"Delhi \":\"Delhi\"})\n",
    "data[\"City\"]=data[\"City\"].replace({\"nashik\":\"Nashik\"})\n",
    "data[\"City\"]=data[\"City\"].replace({\"Mumbai \":\"Mumbai\"})"
   ]
  },
  {
   "cell_type": "code",
   "execution_count": 43,
   "id": "e97599ef-950d-424b-8e9c-6ebd1bca2fef",
   "metadata": {},
   "outputs": [
    {
     "data": {
      "text/plain": [
       "array(['Nabha', 'Pune', 'Kashipur ', 'Satara', 'Noida', 'Delhi', 'Mumbai',\n",
       "       'solapur', 'Haldwani', 'Nellore ', 'Bengaluru', 'Faridabad ',\n",
       "       'Nagpur', 'Chandrapur ', 'Chennai', 'Gurugram ', 'Nashik',\n",
       "       'Patiyala', 'Ahmedabad', 'Karnal', 'Rewari', 'New Delhi',\n",
       "       'Serampore', 'Jhansi', 'Jalandhar'], dtype=object)"
      ]
     },
     "execution_count": 43,
     "metadata": {},
     "output_type": "execute_result"
    }
   ],
   "source": [
    "data[\"City\"].unique()"
   ]
  },
  {
   "cell_type": "code",
   "execution_count": 45,
   "id": "db9558a1-a032-4a0f-8c93-6e38d0d71658",
   "metadata": {},
   "outputs": [
    {
     "data": {
      "text/plain": [
       "<Axes: xlabel='City', ylabel='count'>"
      ]
     },
     "execution_count": 45,
     "metadata": {},
     "output_type": "execute_result"
    },
    {
     "data": {
      "image/png": "[encoded data removed]",
      "text/plain": [
       "<Figure size 640x480 with 1 Axes>"
      ]
     },
     "metadata": {},
     "output_type": "display_data"
    }
   ],
   "source": [
    "sns.countplot(x=\"City\",data=data,order=data.City.value_counts().iloc[:5].index,color=\"magenta\")"
   ]
  },
  {
   "cell_type": "code",
   "execution_count": 49,
   "id": "723058a0-3d47-459f-8db2-46ce7650b31d",
   "metadata": {},
   "outputs": [
    {
     "data": {
      "text/plain": [
       "<Axes: xlabel='No. of Family members'>"
      ]
     },
     "execution_count": 49,
     "metadata": {},
     "output_type": "execute_result"
    },
    {
     "data": {
      "image/png": "[encoded data removed]",
      "text/plain": [
       "<Figure size 600x600 with 1 Axes>"
      ]
     },
     "metadata": {},
     "output_type": "display_data"
    }
   ],
   "source": [
    "plt.figure(figsize=(6,6))\n",
    "data[\"No. of Family members\"].value_counts().plot(kind=\"bar\",color=\"lime\")"
   ]
  },
  {
   "cell_type": "code",
   "execution_count": 59,
   "id": "929ed950-5bdc-4f3e-8956-d2a4be897685",
   "metadata": {},
   "outputs": [
    {
     "data": {
      "text/plain": [
       "<Axes: xlabel='Annual Income', ylabel='Count'>"
      ]
     },
     "execution_count": 59,
     "metadata": {},
     "output_type": "execute_result"
    },
    {
     "data": {
      "image/png": "[encoded data removed]",
      "text/plain": [
       "<Figure size 600x600 with 1 Axes>"
      ]
     },
     "metadata": {},
     "output_type": "display_data"
    }
   ],
   "source": [
    "plt.figure(figsize=(6,6))\n",
    "sns.histplot(data[\"Annual Income\"],color=\"darkviolet\")"
   ]
  },
  {
   "cell_type": "code",
   "execution_count": 61,
   "id": "d2487202-f06a-4f52-9bf1-d37ddb01192a",
   "metadata": {},
   "outputs": [
    {
     "data": {
      "text/plain": [
       "<Axes: xlabel='Education'>"
      ]
     },
     "execution_count": 61,
     "metadata": {},
     "output_type": "execute_result"
    },
    {
     "data": {
      "image/png": "[encoded data removed]",
      "text/plain": [
       "<Figure size 640x480 with 1 Axes>"
      ]
     },
     "metadata": {},
     "output_type": "display_data"
    }
   ],
   "source": [
    "data[\"Education\"].value_counts().plot(kind=\"bar\",color=\"salmon\")"
   ]
  },
  {
   "cell_type": "code",
   "execution_count": 65,
   "id": "26ce9821-0834-49ba-8c43-7293deaffab5",
   "metadata": {},
   "outputs": [
    {
     "data": {
      "text/plain": [
       "<Axes: xlabel='Do you think Electronic Vehicles are economical?'>"
      ]
     },
     "execution_count": 65,
     "metadata": {},
     "output_type": "execute_result"
    },
    {
     "data": {
      "image/png": "[encoded data removed]",
      "text/plain": [
       "<Figure size 640x480 with 1 Axes>"
      ]
     },
     "metadata": {},
     "output_type": "display_data"
    }
   ],
   "source": [
    "data[\"Do you think Electronic Vehicles are economical?\"].value_counts().plot(kind=\"bar\",color=\"greenyellow\")"
   ]
  },
  {
   "cell_type": "code",
   "execution_count": 79,
   "id": "ddab39c8-2e15-4ebb-a536-e557cabfbcd1",
   "metadata": {},
   "outputs": [
    {
     "data": {
      "text/plain": [
       "<Axes: xlabel='Preference for wheels in EV'>"
      ]
     },
     "execution_count": 79,
     "metadata": {},
     "output_type": "execute_result"
    },
    {
     "data": {
      "image/png": "[encoded data removed]",
      "text/plain": [
       "<Figure size 640x480 with 1 Axes>"
      ]
     },
     "metadata": {},
     "output_type": "display_data"
    }
   ],
   "source": [
    "data[\"Preference for wheels in EV\"].value_counts().plot(kind=\"bar\",color=\"plum\")"
   ]
  },
  {
   "cell_type": "code",
   "execution_count": 81,
   "id": "8ec32b22-ebc6-48e7-84f6-c6a161e9ff14",
   "metadata": {},
   "outputs": [
    {
     "data": {
      "text/plain": [
       "<Axes: xlabel='How much money could you spend on an Electronic vehicle?'>"
      ]
     },
     "execution_count": 81,
     "metadata": {},
     "output_type": "execute_result"
    },
    {
     "data": {
      "image/png": "[encoded data removed]",
      "text/plain": [
       "<Figure size 800x800 with 1 Axes>"
      ]
     },
     "metadata": {},
     "output_type": "display_data"
    }
   ],
   "source": [
    "plt.figure(figsize=(8,8))\n",
    "data[\"How much money could you spend on an Electronic vehicle?\"].value_counts().plot(kind=\"bar\",color=\"slategrey\")"
   ]
  },
  {
   "cell_type": "code",
   "execution_count": 85,
   "id": "a3028fb1-80fe-40df-8f19-0f548c9c8857",
   "metadata": {},
   "outputs": [
    {
     "data": {
      "text/plain": [
       "<Axes: xlabel='Which brand of vehicle do you currently own?'>"
      ]
     },
     "execution_count": 85,
     "metadata": {},
     "output_type": "execute_result"
    },
    {
     "data": {
      "image/png": "[encoded data removed]",
      "text/plain": [
       "<Figure size 700x700 with 1 Axes>"
      ]
     },
     "metadata": {},
     "output_type": "display_data"
    }
   ],
   "source": [
    "plt.figure(figsize=(7,7))\n",
    "data[\"Which brand of vehicle do you currently own?\"].value_counts().plot(kind=\"bar\",color=\"springgreen\")"
   ]
  },
  {
   "cell_type": "code",
   "execution_count": 59,
   "id": "71bc9e42-0415-4a93-9b57-c820e8b73fc1",
   "metadata": {},
   "outputs": [
    {
     "data": {
      "text/plain": [
       "<Axes: xlabel='Age', ylabel='count'>"
      ]
     },
     "execution_count": 59,
     "metadata": {},
     "output_type": "execute_result"
    },
    {
     "data": {
      "image/png": "[encoded data removed]",
      "text/plain": [
       "<Figure size 1800x700 with 1 Axes>"
      ]
     },
     "metadata": {},
     "output_type": "display_data"
    }
   ],
   "source": [
    "plt.figure(figsize=(18,7))\n",
    "sns.countplot(x=\"Age\",data=data,hue=\"Education\")"
   ]
  },
  {
   "cell_type": "code",
   "execution_count": 93,
   "id": "50f8374e-233d-464a-a00f-8bdbb615f6e2",
   "metadata": {},
   "outputs": [
    {
     "data": {
      "text/plain": [
       "<Axes: xlabel='Education', ylabel='count'>"
      ]
     },
     "execution_count": 93,
     "metadata": {},
     "output_type": "execute_result"
    },
    {
     "data": {
      "image/png": "[encoded data removed]",
      "text/plain": [
       "<Figure size 640x480 with 1 Axes>"
      ]
     },
     "metadata": {},
     "output_type": "display_data"
    }
   ],
   "source": [
    "sns.countplot(x=\"Education\",data=data,hue=\"Do you think Electronic Vehicles are economical?\",palette=\"spring\")"
   ]
  },
  {
   "cell_type": "code",
   "execution_count": 63,
   "id": "eb4fc410-18ea-4173-b6bd-4dee37ea6044",
   "metadata": {},
   "outputs": [
    {
     "data": {
      "text/plain": [
       "<Axes: xlabel='No. of Family members', ylabel='count'>"
      ]
     },
     "execution_count": 63,
     "metadata": {},
     "output_type": "execute_result"
    },
    {
     "data": {
      "image/png": "[encoded data removed]",
      "text/plain": [
       "<Figure size 1500x600 with 1 Axes>"
      ]
     },
     "metadata": {},
     "output_type": "display_data"
    }
   ],
   "source": [
    "plt.figure(figsize=(15,6))\n",
    "sns.countplot(x=\"No. of Family members\",data=data,hue=\"Do you think Electronic Vehicles are economical?\")"
   ]
  },
  {
   "cell_type": "code",
   "execution_count": 65,
   "id": "9905f04c-0342-4768-be2d-df6dde39c818",
   "metadata": {},
   "outputs": [
    {
     "data": {
      "text/plain": [
       "<Axes: xlabel='No. of Family members', ylabel='count'>"
      ]
     },
     "execution_count": 65,
     "metadata": {},
     "output_type": "execute_result"
    },
    {
     "data": {
      "image/png": "[encoded data removed]",
      "text/plain": [
       "<Figure size 1300x600 with 1 Axes>"
      ]
     },
     "metadata": {},
     "output_type": "display_data"
    }
   ],
   "source": [
    "plt.figure(figsize=(13,6))\n",
    "sns.countplot(x=\"No. of Family members\",data=data,hue=\"Preference for wheels in EV\")"
   ]
  },
  {
   "cell_type": "code",
   "execution_count": 67,
   "id": "fe9e8449-3eca-4c12-ad67-478cca70f171",
   "metadata": {},
   "outputs": [
    {
     "data": {
      "text/plain": [
       "<Axes: xlabel='Which brand of vehicle do you currently own?', ylabel='count'>"
      ]
     },
     "execution_count": 67,
     "metadata": {},
     "output_type": "execute_result"
    },
    {
     "data": {
      "image/png": "[encoded data removed]",
      "text/plain": [
       "<Figure size 1500x600 with 1 Axes>"
      ]
     },
     "metadata": {},
     "output_type": "display_data"
    }
   ],
   "source": [
    "plt.figure(figsize=(15,6))\n",
    "sns.countplot(x=\"Which brand of vehicle do you currently own?\",data=data,hue=\"Profession\")"
   ]
  },
  {
   "cell_type": "markdown",
   "id": "2e1c03fe-eed5-4d2b-a565-848db4744159",
   "metadata": {},
   "source": [
    "#Correlation"
   ]
  },
  {
   "cell_type": "code",
   "execution_count": 98,
   "id": "908d6d32-00fb-42a6-b8f6-c7fee9f5af28",
   "metadata": {},
   "outputs": [
    {
     "name": "stdout",
     "output_type": "stream",
     "text": [
      "Column City cannot be converted to numeric\n",
      "Column Profession cannot be converted to numeric\n",
      "Column Marital Status cannot be converted to numeric\n",
      "Column Education cannot be converted to numeric\n",
      "Column Would you prefer replacing all your vehicles to Electronic vehicles? cannot be converted to numeric\n",
      "Column If Yes/Maybe what type of  EV would you prefer? cannot be converted to numeric\n",
      "Column Do you think Electronic Vehicles are economical? cannot be converted to numeric\n",
      "Column Which brand of vehicle do you currently own? cannot be converted to numeric\n",
      "Column How much money could you spend on an Electronic vehicle? cannot be converted to numeric\n",
      "Column Do you think Electronic vehicles will replace fuel cars in India? cannot be converted to numeric\n"
     ]
    }
   ],
   "source": [
    "data = data.replace('None', np.nan)\n",
    "for column in data.columns:  \n",
    "   \n",
    "    try:\n",
    "        data[column] = pd.to_numeric(data[column])\n",
    "    except ValueError:\n",
    "        #Handle columns that cannot be converted\n",
    "        print(f\"Column {column} cannot be converted to numeric\")\n",
    "        \n",
    "# Now calculate the correlation matrix, only for numeric columns\n",
    "# Select only numeric columns for correlation calculation\n",
    "numeric_data = data.select_dtypes(include=np.number)\n",
    "\n",
    "# Calculate the correlation matrix on the numeric data\n",
    "corr_matrix = numeric_data.corr()"
   ]
  },
  {
   "cell_type": "code",
   "execution_count": 100,
   "id": "e878f813-012c-4b6a-8d52-a91b101a2489",
   "metadata": {},
   "outputs": [
    {
     "name": "stdout",
     "output_type": "stream",
     "text": [
      "Column City cannot be converted to numeric\n",
      "Column Profession cannot be converted to numeric\n",
      "Column Marital Status cannot be converted to numeric\n",
      "Column Education cannot be converted to numeric\n",
      "Column Would you prefer replacing all your vehicles to Electronic vehicles? cannot be converted to numeric\n",
      "Column If Yes/Maybe what type of  EV would you prefer? cannot be converted to numeric\n",
      "Column Do you think Electronic Vehicles are economical? cannot be converted to numeric\n",
      "Column Which brand of vehicle do you currently own? cannot be converted to numeric\n",
      "Column How much money could you spend on an Electronic vehicle? cannot be converted to numeric\n",
      "Column Do you think Electronic vehicles will replace fuel cars in India? cannot be converted to numeric\n"
     ]
    },
    {
     "data": {
      "image/png": "[encoded data removed]",
      "text/plain": [
       "<Figure size 640x480 with 2 Axes>"
      ]
     },
     "metadata": {},
     "output_type": "display_data"
    }
   ],
   "source": [
    "data = data.replace('None', np.nan)\n",
    "\n",
    "# Convert relevant columns to numeric if they are not already\n",
    "for column in data.columns:  \n",
    "    try:\n",
    "        data[column] = pd.to_numeric(data[column])\n",
    "    except ValueError:\n",
    "        #Handle columns that cannot be converted\n",
    "        print(f\"Column {column} cannot be converted to numeric\")\n",
    "        \n",
    "# Now calculate the correlation matrix, only for numeric columns\n",
    "# Select only numeric columns for correlation calculation\n",
    "numeric_data = data.select_dtypes(include=np.number)\n",
    "\n",
    "# Calculate the correlation matrix on the numeric data\n",
    "corr_matrix = numeric_data.corr()\n",
    "\n",
    "# Plotting the heatmap using only numeric data for correlation.\n",
    "sns.heatmap(corr_matrix, annot=True, cmap=\"Spectral\")\n",
    "plt.show()"
   ]
  },
  {
   "cell_type": "code",
   "execution_count": 102,
   "id": "f043d22c-70a8-497f-a967-5f74602bb29a",
   "metadata": {},
   "outputs": [],
   "source": [
    "from sklearn.preprocessing import LabelEncoder\n",
    "def label_encoder(data,column):\n",
    "    label_encoder=LabelEncoder()\n",
    "    return label_encoder.fit_transform(data[column].astype(str))"
   ]
  },
  {
   "cell_type": "code",
   "execution_count": 104,
   "id": "33eb4e57-7ad1-4889-8c63-0f7d1013b39d",
   "metadata": {},
   "outputs": [],
   "source": [
    "data['City']= label_encoder(data,'City')\n",
    "data['Profession']= label_encoder(data,'Profession')\n",
    "data['Marital Status']= label_encoder(data,'Marital Status')\n",
    "data['Education']= label_encoder(data,'Education')"
   ]
  },
  {
   "cell_type": "code",
   "execution_count": 106,
   "id": "a7e9a45a-10e9-4c7e-a090-0569b6fa9bae",
   "metadata": {},
   "outputs": [
    {
     "data": {
      "text/html": [
       "<div>\n",
       "<style scoped>\n",
       "    .dataframe tbody tr th:only-of-type {\n",
       "        vertical-align: middle;\n",
       "    }\n",
       "\n",
       "    .dataframe tbody tr th {\n",
       "        vertical-align: top;\n",
       "    }\n",
       "\n",
       "    .dataframe thead th {\n",
       "        text-align: right;\n",
       "    }\n",
       "</style>\n",
       "<table border=\"1\" class=\"dataframe\">\n",
       "  <thead>\n",
       "    <tr style=\"text-align: right;\">\n",
       "      <th></th>\n",
       "      <th>Age</th>\n",
       "      <th>City</th>\n",
       "      <th>Profession</th>\n",
       "      <th>Marital Status</th>\n",
       "      <th>Education</th>\n",
       "      <th>No. of Family members</th>\n",
       "      <th>Annual Income</th>\n",
       "      <th>Would you prefer replacing all your vehicles to Electronic vehicles?</th>\n",
       "      <th>If Yes/Maybe what type of  EV would you prefer?</th>\n",
       "      <th>Do you think Electronic Vehicles are economical?</th>\n",
       "      <th>Which brand of vehicle do you currently own?</th>\n",
       "      <th>How much money could you spend on an Electronic vehicle?</th>\n",
       "      <th>Preference for wheels in EV</th>\n",
       "      <th>Do you think Electronic vehicles will replace fuel cars in India?</th>\n",
       "    </tr>\n",
       "  </thead>\n",
       "  <tbody>\n",
       "    <tr>\n",
       "      <th>0</th>\n",
       "      <td>30</td>\n",
       "      <td>13</td>\n",
       "      <td>3</td>\n",
       "      <td>1</td>\n",
       "      <td>0</td>\n",
       "      <td>5</td>\n",
       "      <td>1.193876e+06</td>\n",
       "      <td>Maybe</td>\n",
       "      <td>SUV</td>\n",
       "      <td>Yes</td>\n",
       "      <td>Hyundai</td>\n",
       "      <td>&lt;5 lakhs</td>\n",
       "      <td>2</td>\n",
       "      <td>I don't think so</td>\n",
       "    </tr>\n",
       "    <tr>\n",
       "      <th>1</th>\n",
       "      <td>27</td>\n",
       "      <td>20</td>\n",
       "      <td>3</td>\n",
       "      <td>1</td>\n",
       "      <td>0</td>\n",
       "      <td>4</td>\n",
       "      <td>1.844540e+06</td>\n",
       "      <td>Yes</td>\n",
       "      <td>SUV</td>\n",
       "      <td>Yes</td>\n",
       "      <td>Honda</td>\n",
       "      <td>&lt;15 lakhs</td>\n",
       "      <td>4</td>\n",
       "      <td>Yes, in &lt;20years</td>\n",
       "    </tr>\n",
       "    <tr>\n",
       "      <th>2</th>\n",
       "      <td>32</td>\n",
       "      <td>11</td>\n",
       "      <td>3</td>\n",
       "      <td>1</td>\n",
       "      <td>0</td>\n",
       "      <td>4</td>\n",
       "      <td>2.948150e+06</td>\n",
       "      <td>Yes</td>\n",
       "      <td>Hatchback</td>\n",
       "      <td>Yes</td>\n",
       "      <td>KIA</td>\n",
       "      <td>&lt;15 lakhs</td>\n",
       "      <td>4</td>\n",
       "      <td>Yes, in &lt;20years</td>\n",
       "    </tr>\n",
       "    <tr>\n",
       "      <th>3</th>\n",
       "      <td>55</td>\n",
       "      <td>20</td>\n",
       "      <td>0</td>\n",
       "      <td>1</td>\n",
       "      <td>0</td>\n",
       "      <td>3</td>\n",
       "      <td>2.832380e+06</td>\n",
       "      <td>Maybe</td>\n",
       "      <td>Hatchback</td>\n",
       "      <td>No</td>\n",
       "      <td>Hyundai</td>\n",
       "      <td>&lt;5 lakhs</td>\n",
       "      <td>4</td>\n",
       "      <td>Yes, in &lt;10 years</td>\n",
       "    </tr>\n",
       "    <tr>\n",
       "      <th>4</th>\n",
       "      <td>26</td>\n",
       "      <td>22</td>\n",
       "      <td>3</td>\n",
       "      <td>1</td>\n",
       "      <td>0</td>\n",
       "      <td>4</td>\n",
       "      <td>2.638751e+06</td>\n",
       "      <td>Yes</td>\n",
       "      <td>Sedan</td>\n",
       "      <td>Yes</td>\n",
       "      <td>McLaren</td>\n",
       "      <td>&lt;15 lakhs</td>\n",
       "      <td>4</td>\n",
       "      <td>Yes, in &lt;20years</td>\n",
       "    </tr>\n",
       "  </tbody>\n",
       "</table>\n",
       "</div>"
      ],
      "text/plain": [
       "   Age  City  Profession  Marital Status  Education  No. of Family members  \\\n",
       "0   30    13           3               1          0                      5   \n",
       "1   27    20           3               1          0                      4   \n",
       "2   32    11           3               1          0                      4   \n",
       "3   55    20           0               1          0                      3   \n",
       "4   26    22           3               1          0                      4   \n",
       "\n",
       "   Annual Income  \\\n",
       "0   1.193876e+06   \n",
       "1   1.844540e+06   \n",
       "2   2.948150e+06   \n",
       "3   2.832380e+06   \n",
       "4   2.638751e+06   \n",
       "\n",
       "  Would you prefer replacing all your vehicles to Electronic vehicles?  \\\n",
       "0                                              Maybe                     \n",
       "1                                                Yes                     \n",
       "2                                                Yes                     \n",
       "3                                              Maybe                     \n",
       "4                                                Yes                     \n",
       "\n",
       "  If Yes/Maybe what type of  EV would you prefer?  \\\n",
       "0                                             SUV   \n",
       "1                                             SUV   \n",
       "2                                       Hatchback   \n",
       "3                                       Hatchback   \n",
       "4                                           Sedan   \n",
       "\n",
       "  Do you think Electronic Vehicles are economical?  \\\n",
       "0                                              Yes   \n",
       "1                                              Yes   \n",
       "2                                              Yes   \n",
       "3                                               No   \n",
       "4                                              Yes   \n",
       "\n",
       "  Which brand of vehicle do you currently own?  \\\n",
       "0                                      Hyundai   \n",
       "1                                        Honda   \n",
       "2                                          KIA   \n",
       "3                                      Hyundai   \n",
       "4                                     McLaren    \n",
       "\n",
       "  How much money could you spend on an Electronic vehicle?  \\\n",
       "0                                           <5 lakhs         \n",
       "1                                          <15 lakhs         \n",
       "2                                          <15 lakhs         \n",
       "3                                           <5 lakhs         \n",
       "4                                          <15 lakhs         \n",
       "\n",
       "   Preference for wheels in EV  \\\n",
       "0                            2   \n",
       "1                            4   \n",
       "2                            4   \n",
       "3                            4   \n",
       "4                            4   \n",
       "\n",
       "  Do you think Electronic vehicles will replace fuel cars in India?  \n",
       "0                                   I don't think so                 \n",
       "1                                   Yes, in <20years                 \n",
       "2                                   Yes, in <20years                 \n",
       "3                                  Yes, in <10 years                 \n",
       "4                                   Yes, in <20years                 "
      ]
     },
     "execution_count": 106,
     "metadata": {},
     "output_type": "execute_result"
    }
   ],
   "source": [
    "data.head()"
   ]
  },
  {
   "cell_type": "code",
   "execution_count": 108,
   "id": "6f0ff5db-f8c3-4279-b2b0-a2fe8768cbdc",
   "metadata": {},
   "outputs": [],
   "source": [
    "data['Would you prefer replacing all your vehicles to Electronic vehicles?']= label_encoder(data,'Would you prefer replacing all your vehicles to Electronic vehicles?')\n",
    "data['If Yes/Maybe what type of  EV would you prefer?']= label_encoder(data,'If Yes/Maybe what type of  EV would you prefer?')\n",
    "data['Do you think Electronic Vehicles are economical?']= label_encoder(data,'Do you think Electronic Vehicles are economical?')\n",
    "data['Which brand of vehicle do you currently own?']= label_encoder(data,'Which brand of vehicle do you currently own?')\n",
    "data['Do you think Electronic vehicles will replace fuel cars in India?']= label_encoder(data,'Do you think Electronic vehicles will replace fuel cars in India?')\n",
    "data['How much money could you spend on an Electronic vehicle?']= label_encoder(data,'How much money could you spend on an Electronic vehicle?')"
   ]
  },
  {
   "cell_type": "code",
   "execution_count": 110,
   "id": "967f89ef-d317-492e-a53a-7e4cbfb90bf2",
   "metadata": {},
   "outputs": [
    {
     "data": {
      "text/html": [
       "<div>\n",
       "<style scoped>\n",
       "    .dataframe tbody tr th:only-of-type {\n",
       "        vertical-align: middle;\n",
       "    }\n",
       "\n",
       "    .dataframe tbody tr th {\n",
       "        vertical-align: top;\n",
       "    }\n",
       "\n",
       "    .dataframe thead th {\n",
       "        text-align: right;\n",
       "    }\n",
       "</style>\n",
       "<table border=\"1\" class=\"dataframe\">\n",
       "  <thead>\n",
       "    <tr style=\"text-align: right;\">\n",
       "      <th></th>\n",
       "      <th>Age</th>\n",
       "      <th>City</th>\n",
       "      <th>Profession</th>\n",
       "      <th>Marital Status</th>\n",
       "      <th>Education</th>\n",
       "      <th>No. of Family members</th>\n",
       "      <th>Annual Income</th>\n",
       "      <th>Would you prefer replacing all your vehicles to Electronic vehicles?</th>\n",
       "      <th>If Yes/Maybe what type of  EV would you prefer?</th>\n",
       "      <th>Do you think Electronic Vehicles are economical?</th>\n",
       "      <th>Which brand of vehicle do you currently own?</th>\n",
       "      <th>How much money could you spend on an Electronic vehicle?</th>\n",
       "      <th>Preference for wheels in EV</th>\n",
       "      <th>Do you think Electronic vehicles will replace fuel cars in India?</th>\n",
       "    </tr>\n",
       "  </thead>\n",
       "  <tbody>\n",
       "    <tr>\n",
       "      <th>0</th>\n",
       "      <td>30</td>\n",
       "      <td>13</td>\n",
       "      <td>3</td>\n",
       "      <td>1</td>\n",
       "      <td>0</td>\n",
       "      <td>5</td>\n",
       "      <td>1.193876e+06</td>\n",
       "      <td>0</td>\n",
       "      <td>3</td>\n",
       "      <td>2</td>\n",
       "      <td>4</td>\n",
       "      <td>6</td>\n",
       "      <td>2</td>\n",
       "      <td>0</td>\n",
       "    </tr>\n",
       "    <tr>\n",
       "      <th>1</th>\n",
       "      <td>27</td>\n",
       "      <td>20</td>\n",
       "      <td>3</td>\n",
       "      <td>1</td>\n",
       "      <td>0</td>\n",
       "      <td>4</td>\n",
       "      <td>1.844540e+06</td>\n",
       "      <td>2</td>\n",
       "      <td>3</td>\n",
       "      <td>2</td>\n",
       "      <td>3</td>\n",
       "      <td>4</td>\n",
       "      <td>4</td>\n",
       "      <td>2</td>\n",
       "    </tr>\n",
       "    <tr>\n",
       "      <th>2</th>\n",
       "      <td>32</td>\n",
       "      <td>11</td>\n",
       "      <td>3</td>\n",
       "      <td>1</td>\n",
       "      <td>0</td>\n",
       "      <td>4</td>\n",
       "      <td>2.948150e+06</td>\n",
       "      <td>2</td>\n",
       "      <td>1</td>\n",
       "      <td>2</td>\n",
       "      <td>5</td>\n",
       "      <td>4</td>\n",
       "      <td>4</td>\n",
       "      <td>2</td>\n",
       "    </tr>\n",
       "    <tr>\n",
       "      <th>3</th>\n",
       "      <td>55</td>\n",
       "      <td>20</td>\n",
       "      <td>0</td>\n",
       "      <td>1</td>\n",
       "      <td>0</td>\n",
       "      <td>3</td>\n",
       "      <td>2.832380e+06</td>\n",
       "      <td>0</td>\n",
       "      <td>1</td>\n",
       "      <td>1</td>\n",
       "      <td>4</td>\n",
       "      <td>6</td>\n",
       "      <td>4</td>\n",
       "      <td>1</td>\n",
       "    </tr>\n",
       "    <tr>\n",
       "      <th>4</th>\n",
       "      <td>26</td>\n",
       "      <td>22</td>\n",
       "      <td>3</td>\n",
       "      <td>1</td>\n",
       "      <td>0</td>\n",
       "      <td>4</td>\n",
       "      <td>2.638751e+06</td>\n",
       "      <td>2</td>\n",
       "      <td>4</td>\n",
       "      <td>2</td>\n",
       "      <td>10</td>\n",
       "      <td>4</td>\n",
       "      <td>4</td>\n",
       "      <td>2</td>\n",
       "    </tr>\n",
       "  </tbody>\n",
       "</table>\n",
       "</div>"
      ],
      "text/plain": [
       "   Age  City  Profession  Marital Status  Education  No. of Family members  \\\n",
       "0   30    13           3               1          0                      5   \n",
       "1   27    20           3               1          0                      4   \n",
       "2   32    11           3               1          0                      4   \n",
       "3   55    20           0               1          0                      3   \n",
       "4   26    22           3               1          0                      4   \n",
       "\n",
       "   Annual Income  \\\n",
       "0   1.193876e+06   \n",
       "1   1.844540e+06   \n",
       "2   2.948150e+06   \n",
       "3   2.832380e+06   \n",
       "4   2.638751e+06   \n",
       "\n",
       "   Would you prefer replacing all your vehicles to Electronic vehicles?  \\\n",
       "0                                                  0                      \n",
       "1                                                  2                      \n",
       "2                                                  2                      \n",
       "3                                                  0                      \n",
       "4                                                  2                      \n",
       "\n",
       "   If Yes/Maybe what type of  EV would you prefer?  \\\n",
       "0                                                3   \n",
       "1                                                3   \n",
       "2                                                1   \n",
       "3                                                1   \n",
       "4                                                4   \n",
       "\n",
       "   Do you think Electronic Vehicles are economical?  \\\n",
       "0                                                 2   \n",
       "1                                                 2   \n",
       "2                                                 2   \n",
       "3                                                 1   \n",
       "4                                                 2   \n",
       "\n",
       "   Which brand of vehicle do you currently own?  \\\n",
       "0                                             4   \n",
       "1                                             3   \n",
       "2                                             5   \n",
       "3                                             4   \n",
       "4                                            10   \n",
       "\n",
       "   How much money could you spend on an Electronic vehicle?  \\\n",
       "0                                                  6          \n",
       "1                                                  4          \n",
       "2                                                  4          \n",
       "3                                                  6          \n",
       "4                                                  4          \n",
       "\n",
       "   Preference for wheels in EV  \\\n",
       "0                            2   \n",
       "1                            4   \n",
       "2                            4   \n",
       "3                            4   \n",
       "4                            4   \n",
       "\n",
       "   Do you think Electronic vehicles will replace fuel cars in India?  \n",
       "0                                                  0                  \n",
       "1                                                  2                  \n",
       "2                                                  2                  \n",
       "3                                                  1                  \n",
       "4                                                  2                  "
      ]
     },
     "execution_count": 110,
     "metadata": {},
     "output_type": "execute_result"
    }
   ],
   "source": [
    "data.head()"
   ]
  },
  {
   "cell_type": "markdown",
   "id": "e8593eae-5e00-495c-94b8-d420bd374042",
   "metadata": {},
   "source": [
    "#K Means Model"
   ]
  },
  {
   "cell_type": "code",
   "execution_count": 113,
   "id": "f20f1f50-0e62-443c-aa07-c71680c6c9dc",
   "metadata": {},
   "outputs": [
    {
     "data": {
      "text/html": [
       "<div>\n",
       "<style scoped>\n",
       "    .dataframe tbody tr th:only-of-type {\n",
       "        vertical-align: middle;\n",
       "    }\n",
       "\n",
       "    .dataframe tbody tr th {\n",
       "        vertical-align: top;\n",
       "    }\n",
       "\n",
       "    .dataframe thead th {\n",
       "        text-align: right;\n",
       "    }\n",
       "</style>\n",
       "<table border=\"1\" class=\"dataframe\">\n",
       "  <thead>\n",
       "    <tr style=\"text-align: right;\">\n",
       "      <th></th>\n",
       "      <th>Age</th>\n",
       "      <th>City</th>\n",
       "      <th>Profession</th>\n",
       "      <th>Marital Status</th>\n",
       "      <th>Education</th>\n",
       "      <th>No. of Family members</th>\n",
       "      <th>Annual Income</th>\n",
       "      <th>Would you prefer replacing all your vehicles to Electronic vehicles?</th>\n",
       "      <th>If Yes/Maybe what type of  EV would you prefer?</th>\n",
       "      <th>Do you think Electronic Vehicles are economical?</th>\n",
       "      <th>Which brand of vehicle do you currently own?</th>\n",
       "      <th>How much money could you spend on an Electronic vehicle?</th>\n",
       "      <th>Preference for wheels in EV</th>\n",
       "      <th>Do you think Electronic vehicles will replace fuel cars in India?</th>\n",
       "    </tr>\n",
       "  </thead>\n",
       "  <tbody>\n",
       "    <tr>\n",
       "      <th>0</th>\n",
       "      <td>30</td>\n",
       "      <td>13</td>\n",
       "      <td>3</td>\n",
       "      <td>1</td>\n",
       "      <td>0</td>\n",
       "      <td>5</td>\n",
       "      <td>1.193876e+06</td>\n",
       "      <td>0</td>\n",
       "      <td>3</td>\n",
       "      <td>2</td>\n",
       "      <td>4</td>\n",
       "      <td>6</td>\n",
       "      <td>2</td>\n",
       "      <td>0</td>\n",
       "    </tr>\n",
       "    <tr>\n",
       "      <th>1</th>\n",
       "      <td>27</td>\n",
       "      <td>20</td>\n",
       "      <td>3</td>\n",
       "      <td>1</td>\n",
       "      <td>0</td>\n",
       "      <td>4</td>\n",
       "      <td>1.844540e+06</td>\n",
       "      <td>2</td>\n",
       "      <td>3</td>\n",
       "      <td>2</td>\n",
       "      <td>3</td>\n",
       "      <td>4</td>\n",
       "      <td>4</td>\n",
       "      <td>2</td>\n",
       "    </tr>\n",
       "    <tr>\n",
       "      <th>2</th>\n",
       "      <td>32</td>\n",
       "      <td>11</td>\n",
       "      <td>3</td>\n",
       "      <td>1</td>\n",
       "      <td>0</td>\n",
       "      <td>4</td>\n",
       "      <td>2.948150e+06</td>\n",
       "      <td>2</td>\n",
       "      <td>1</td>\n",
       "      <td>2</td>\n",
       "      <td>5</td>\n",
       "      <td>4</td>\n",
       "      <td>4</td>\n",
       "      <td>2</td>\n",
       "    </tr>\n",
       "    <tr>\n",
       "      <th>3</th>\n",
       "      <td>55</td>\n",
       "      <td>20</td>\n",
       "      <td>0</td>\n",
       "      <td>1</td>\n",
       "      <td>0</td>\n",
       "      <td>3</td>\n",
       "      <td>2.832380e+06</td>\n",
       "      <td>0</td>\n",
       "      <td>1</td>\n",
       "      <td>1</td>\n",
       "      <td>4</td>\n",
       "      <td>6</td>\n",
       "      <td>4</td>\n",
       "      <td>1</td>\n",
       "    </tr>\n",
       "    <tr>\n",
       "      <th>4</th>\n",
       "      <td>26</td>\n",
       "      <td>22</td>\n",
       "      <td>3</td>\n",
       "      <td>1</td>\n",
       "      <td>0</td>\n",
       "      <td>4</td>\n",
       "      <td>2.638751e+06</td>\n",
       "      <td>2</td>\n",
       "      <td>4</td>\n",
       "      <td>2</td>\n",
       "      <td>10</td>\n",
       "      <td>4</td>\n",
       "      <td>4</td>\n",
       "      <td>2</td>\n",
       "    </tr>\n",
       "  </tbody>\n",
       "</table>\n",
       "</div>"
      ],
      "text/plain": [
       "   Age  City  Profession  Marital Status  Education  No. of Family members  \\\n",
       "0   30    13           3               1          0                      5   \n",
       "1   27    20           3               1          0                      4   \n",
       "2   32    11           3               1          0                      4   \n",
       "3   55    20           0               1          0                      3   \n",
       "4   26    22           3               1          0                      4   \n",
       "\n",
       "   Annual Income  \\\n",
       "0   1.193876e+06   \n",
       "1   1.844540e+06   \n",
       "2   2.948150e+06   \n",
       "3   2.832380e+06   \n",
       "4   2.638751e+06   \n",
       "\n",
       "   Would you prefer replacing all your vehicles to Electronic vehicles?  \\\n",
       "0                                                  0                      \n",
       "1                                                  2                      \n",
       "2                                                  2                      \n",
       "3                                                  0                      \n",
       "4                                                  2                      \n",
       "\n",
       "   If Yes/Maybe what type of  EV would you prefer?  \\\n",
       "0                                                3   \n",
       "1                                                3   \n",
       "2                                                1   \n",
       "3                                                1   \n",
       "4                                                4   \n",
       "\n",
       "   Do you think Electronic Vehicles are economical?  \\\n",
       "0                                                 2   \n",
       "1                                                 2   \n",
       "2                                                 2   \n",
       "3                                                 1   \n",
       "4                                                 2   \n",
       "\n",
       "   Which brand of vehicle do you currently own?  \\\n",
       "0                                             4   \n",
       "1                                             3   \n",
       "2                                             5   \n",
       "3                                             4   \n",
       "4                                            10   \n",
       "\n",
       "   How much money could you spend on an Electronic vehicle?  \\\n",
       "0                                                  6          \n",
       "1                                                  4          \n",
       "2                                                  4          \n",
       "3                                                  6          \n",
       "4                                                  4          \n",
       "\n",
       "   Preference for wheels in EV  \\\n",
       "0                            2   \n",
       "1                            4   \n",
       "2                            4   \n",
       "3                            4   \n",
       "4                            4   \n",
       "\n",
       "   Do you think Electronic vehicles will replace fuel cars in India?  \n",
       "0                                                  0                  \n",
       "1                                                  2                  \n",
       "2                                                  2                  \n",
       "3                                                  1                  \n",
       "4                                                  2                  "
      ]
     },
     "execution_count": 113,
     "metadata": {},
     "output_type": "execute_result"
    }
   ],
   "source": [
    "data.head()"
   ]
  },
  {
   "cell_type": "markdown",
   "id": "7605ad2e-ed05-4141-b9d4-a03524a009df",
   "metadata": {},
   "source": [
    "#Checking for Variance Inflation Factor"
   ]
  },
  {
   "cell_type": "code",
   "execution_count": 118,
   "id": "fdd42072-0a46-4187-9234-9bd3a4bc65b1",
   "metadata": {},
   "outputs": [],
   "source": [
    "y=data[\"City\"]\n",
    "x=data.drop([\"City\"],axis=1)"
   ]
  },
  {
   "cell_type": "code",
   "execution_count": 120,
   "id": "e9076041-5102-462e-887e-23bacfa25af2",
   "metadata": {},
   "outputs": [],
   "source": [
    "from statsmodels.stats.outliers_influence import variance_inflation_factor\n",
    "\n",
    "def vif(x):\n",
    "    vif=pd.DataFrame()\n",
    "    vif['variables']=x.columns\n",
    "    vif['VIF']=[variance_inflation_factor(x.values, i) for i in range(x.shape[1])]\n",
    "    return(vif)"
   ]
  },
  {
   "cell_type": "code",
   "execution_count": 121,
   "id": "727db866-df4e-44a7-8354-d9d1ec320728",
   "metadata": {},
   "outputs": [],
   "source": [
    "x=data.iloc[:,:-1]"
   ]
  },
  {
   "cell_type": "code",
   "execution_count": 122,
   "id": "5ccf46d8-958a-4201-9869-80d787673269",
   "metadata": {},
   "outputs": [
    {
     "data": {
      "text/html": [
       "<div>\n",
       "<style scoped>\n",
       "    .dataframe tbody tr th:only-of-type {\n",
       "        vertical-align: middle;\n",
       "    }\n",
       "\n",
       "    .dataframe tbody tr th {\n",
       "        vertical-align: top;\n",
       "    }\n",
       "\n",
       "    .dataframe thead th {\n",
       "        text-align: right;\n",
       "    }\n",
       "</style>\n",
       "<table border=\"1\" class=\"dataframe\">\n",
       "  <thead>\n",
       "    <tr style=\"text-align: right;\">\n",
       "      <th></th>\n",
       "      <th>variables</th>\n",
       "      <th>VIF</th>\n",
       "    </tr>\n",
       "  </thead>\n",
       "  <tbody>\n",
       "    <tr>\n",
       "      <th>0</th>\n",
       "      <td>Age</td>\n",
       "      <td>8.048885</td>\n",
       "    </tr>\n",
       "    <tr>\n",
       "      <th>1</th>\n",
       "      <td>City</td>\n",
       "      <td>7.927265</td>\n",
       "    </tr>\n",
       "    <tr>\n",
       "      <th>2</th>\n",
       "      <td>Profession</td>\n",
       "      <td>4.699440</td>\n",
       "    </tr>\n",
       "    <tr>\n",
       "      <th>3</th>\n",
       "      <td>Marital Status</td>\n",
       "      <td>2.716670</td>\n",
       "    </tr>\n",
       "    <tr>\n",
       "      <th>4</th>\n",
       "      <td>Education</td>\n",
       "      <td>1.449336</td>\n",
       "    </tr>\n",
       "    <tr>\n",
       "      <th>5</th>\n",
       "      <td>No. of Family members</td>\n",
       "      <td>8.304938</td>\n",
       "    </tr>\n",
       "    <tr>\n",
       "      <th>6</th>\n",
       "      <td>Annual Income</td>\n",
       "      <td>5.770562</td>\n",
       "    </tr>\n",
       "    <tr>\n",
       "      <th>7</th>\n",
       "      <td>Would you prefer replacing all your vehicles t...</td>\n",
       "      <td>4.140082</td>\n",
       "    </tr>\n",
       "    <tr>\n",
       "      <th>8</th>\n",
       "      <td>If Yes/Maybe what type of  EV would you prefer?</td>\n",
       "      <td>7.104678</td>\n",
       "    </tr>\n",
       "    <tr>\n",
       "      <th>9</th>\n",
       "      <td>Do you think Electronic Vehicles are economical?</td>\n",
       "      <td>6.377955</td>\n",
       "    </tr>\n",
       "    <tr>\n",
       "      <th>10</th>\n",
       "      <td>Which brand of vehicle do you currently own?</td>\n",
       "      <td>3.886415</td>\n",
       "    </tr>\n",
       "    <tr>\n",
       "      <th>11</th>\n",
       "      <td>How much money could you spend on an Electroni...</td>\n",
       "      <td>13.297872</td>\n",
       "    </tr>\n",
       "    <tr>\n",
       "      <th>12</th>\n",
       "      <td>Preference for wheels in EV</td>\n",
       "      <td>12.552252</td>\n",
       "    </tr>\n",
       "  </tbody>\n",
       "</table>\n",
       "</div>"
      ],
      "text/plain": [
       "                                            variables        VIF\n",
       "0                                                 Age   8.048885\n",
       "1                                                City   7.927265\n",
       "2                                          Profession   4.699440\n",
       "3                                      Marital Status   2.716670\n",
       "4                                           Education   1.449336\n",
       "5                               No. of Family members   8.304938\n",
       "6                                       Annual Income   5.770562\n",
       "7   Would you prefer replacing all your vehicles t...   4.140082\n",
       "8     If Yes/Maybe what type of  EV would you prefer?   7.104678\n",
       "9    Do you think Electronic Vehicles are economical?   6.377955\n",
       "10       Which brand of vehicle do you currently own?   3.886415\n",
       "11  How much money could you spend on an Electroni...  13.297872\n",
       "12                        Preference for wheels in EV  12.552252"
      ]
     },
     "execution_count": 122,
     "metadata": {},
     "output_type": "execute_result"
    }
   ],
   "source": [
    "vif(x)"
   ]
  },
  {
   "cell_type": "markdown",
   "id": "ef1b4704-4430-4444-b370-0d6f6c8a2a0a",
   "metadata": {},
   "source": [
    "##Implement the PCA"
   ]
  },
  {
   "cell_type": "code",
   "execution_count": 127,
   "id": "19ad30fa-354d-4213-a57b-11268f947069",
   "metadata": {},
   "outputs": [
    {
     "data": {
      "text/html": [
       "<div>\n",
       "<style scoped>\n",
       "    .dataframe tbody tr th:only-of-type {\n",
       "        vertical-align: middle;\n",
       "    }\n",
       "\n",
       "    .dataframe tbody tr th {\n",
       "        vertical-align: top;\n",
       "    }\n",
       "\n",
       "    .dataframe thead th {\n",
       "        text-align: right;\n",
       "    }\n",
       "</style>\n",
       "<table border=\"1\" class=\"dataframe\">\n",
       "  <thead>\n",
       "    <tr style=\"text-align: right;\">\n",
       "      <th></th>\n",
       "      <th>PC1</th>\n",
       "      <th>PC2</th>\n",
       "      <th>PC3</th>\n",
       "      <th>PC4</th>\n",
       "    </tr>\n",
       "  </thead>\n",
       "  <tbody>\n",
       "    <tr>\n",
       "      <th>0</th>\n",
       "      <td>-1.064466e+06</td>\n",
       "      <td>-1.992669</td>\n",
       "      <td>-3.634987</td>\n",
       "      <td>-3.522370</td>\n",
       "    </tr>\n",
       "    <tr>\n",
       "      <th>1</th>\n",
       "      <td>-4.138014e+05</td>\n",
       "      <td>-4.902217</td>\n",
       "      <td>3.234859</td>\n",
       "      <td>-4.871891</td>\n",
       "    </tr>\n",
       "    <tr>\n",
       "      <th>2</th>\n",
       "      <td>6.898083e+05</td>\n",
       "      <td>0.255057</td>\n",
       "      <td>-5.775058</td>\n",
       "      <td>-2.512197</td>\n",
       "    </tr>\n",
       "    <tr>\n",
       "      <th>3</th>\n",
       "      <td>5.740379e+05</td>\n",
       "      <td>23.260467</td>\n",
       "      <td>3.095357</td>\n",
       "      <td>-4.233323</td>\n",
       "    </tr>\n",
       "    <tr>\n",
       "      <th>4</th>\n",
       "      <td>3.804088e+05</td>\n",
       "      <td>-5.717406</td>\n",
       "      <td>5.540306</td>\n",
       "      <td>1.956918</td>\n",
       "    </tr>\n",
       "  </tbody>\n",
       "</table>\n",
       "</div>"
      ],
      "text/plain": [
       "            PC1        PC2       PC3       PC4\n",
       "0 -1.064466e+06  -1.992669 -3.634987 -3.522370\n",
       "1 -4.138014e+05  -4.902217  3.234859 -4.871891\n",
       "2  6.898083e+05   0.255057 -5.775058 -2.512197\n",
       "3  5.740379e+05  23.260467  3.095357 -4.233323\n",
       "4  3.804088e+05  -5.717406  5.540306  1.956918"
      ]
     },
     "execution_count": 127,
     "metadata": {},
     "output_type": "execute_result"
    }
   ],
   "source": [
    "from sklearn.decomposition import PCA\n",
    "\n",
    "# Perform PCA\n",
    "pca = PCA(n_components=4)\n",
    "pca_data = pca.fit_transform(data)\n",
    "data2 = pd.DataFrame(pca_data, columns=['PC1', 'PC2','PC3','PC4'])\n",
    "data2.head()"
   ]
  },
  {
   "cell_type": "markdown",
   "id": "3bdb621b-f3ac-4bfb-ab80-9082818f7c7a",
   "metadata": {},
   "source": [
    "##Dendogram"
   ]
  },
  {
   "cell_type": "code",
   "execution_count": 130,
   "id": "1a171534-6553-4778-9874-990791804cea",
   "metadata": {},
   "outputs": [
    {
     "data": {
      "image/png": "[encoded data removed]",
      "text/plain": [
       "<Figure size 1300x900 with 1 Axes>"
      ]
     },
     "metadata": {},
     "output_type": "display_data"
    }
   ],
   "source": [
    "from scipy.cluster.hierarchy import dendrogram, linkage\n",
    "\n",
    "linked = linkage(data2, 'complete')\n",
    "plt.figure(figsize=(13, 9))\n",
    "dendrogram(linked, orientation='top')\n",
    "plt.show()"
   ]
  },
  {
   "cell_type": "markdown",
   "id": "46cead05-d28b-4849-93d4-766a5f6cea57",
   "metadata": {},
   "source": [
    "#Find the number of clusters using Elbow Method"
   ]
  },
  {
   "cell_type": "code",
   "execution_count": 135,
   "id": "5ea0fe19-a48f-4db6-8fff-404295c49fa4",
   "metadata": {},
   "outputs": [
    {
     "data": {
      "image/png": "[encoded data removed]",
      "text/plain": [
       "<Figure size 640x480 with 1 Axes>"
      ]
     },
     "metadata": {},
     "output_type": "display_data"
    }
   ],
   "source": [
    "from sklearn.cluster import KMeans\n",
    "\n",
    "# Determine the number of clusters using the Elbow method\n",
    "wcss = []\n",
    "for i in range(1, 11):\n",
    "    kmeans = KMeans(n_clusters=i, init='k-means++', random_state=42)\n",
    "    kmeans.fit(data)\n",
    "    wcss.append(kmeans.inertia_)\n",
    "\n",
    "# Plot the Elbow curve\n",
    "plt.plot(range(1, 11), wcss)\n",
    "plt.xlabel('Number of Clusters')\n",
    "plt.ylabel('WCSS')\n",
    "plt.title('Elbow Method')\n",
    "plt.grid()\n",
    "plt.show()"
   ]
  },
  {
   "cell_type": "markdown",
   "id": "174218b5-b7a4-4949-b0a7-2475aca85d71",
   "metadata": {},
   "source": [
    "#Apply the KMeans Clustering algorithm"
   ]
  },
  {
   "cell_type": "code",
   "execution_count": 139,
   "id": "e9d2316f-f4d8-4193-a271-8c9b55df32dc",
   "metadata": {},
   "outputs": [
    {
     "data": {
      "text/html": [
       "<style>#sk-container-id-1 {\n",
       "  /* Definition of color scheme common for light and dark mode */\n",
       "  --sklearn-color-text: black;\n",
       "  --sklearn-color-line: gray;\n",
       "  /* Definition of color scheme for unfitted estimators */\n",
       "  --sklearn-color-unfitted-level-0: #fff5e6;\n",
       "  --sklearn-color-unfitted-level-1: #f6e4d2;\n",
       "  --sklearn-color-unfitted-level-2: #ffe0b3;\n",
       "  --sklearn-color-unfitted-level-3: chocolate;\n",
       "  /* Definition of color scheme for fitted estimators */\n",
       "  --sklearn-color-fitted-level-0: #f0f8ff;\n",
       "  --sklearn-color-fitted-level-1: #d4ebff;\n",
       "  --sklearn-color-fitted-level-2: #b3dbfd;\n",
       "  --sklearn-color-fitted-level-3: cornflowerblue;\n",
       "\n",
       "  /* Specific color for light theme */\n",
       "  --sklearn-color-text-on-default-background: var(--sg-text-color, var(--theme-code-foreground, var(--jp-content-font-color1, black)));\n",
       "  --sklearn-color-background: var(--sg-background-color, var(--theme-background, var(--jp-layout-color0, white)));\n",
       "  --sklearn-color-border-box: var(--sg-text-color, var(--theme-code-foreground, var(--jp-content-font-color1, black)));\n",
       "  --sklearn-color-icon: #696969;\n",
       "\n",
       "  @media (prefers-color-scheme: dark) {\n",
       "    /* Redefinition of color scheme for dark theme */\n",
       "    --sklearn-color-text-on-default-background: var(--sg-text-color, var(--theme-code-foreground, var(--jp-content-font-color1, white)));\n",
       "    --sklearn-color-background: var(--sg-background-color, var(--theme-background, var(--jp-layout-color0, #111)));\n",
       "    --sklearn-color-border-box: var(--sg-text-color, var(--theme-code-foreground, var(--jp-content-font-color1, white)));\n",
       "    --sklearn-color-icon: #878787;\n",
       "  }\n",
       "}\n",
       "\n",
       "#sk-container-id-1 {\n",
       "  color: var(--sklearn-color-text);\n",
       "}\n",
       "\n",
       "#sk-container-id-1 pre {\n",
       "  padding: 0;\n",
       "}\n",
       "\n",
       "#sk-container-id-1 input.sk-hidden--visually {\n",
       "  border: 0;\n",
       "  clip: rect(1px 1px 1px 1px);\n",
       "  clip: rect(1px, 1px, 1px, 1px);\n",
       "  height: 1px;\n",
       "  margin: -1px;\n",
       "  overflow: hidden;\n",
       "  padding: 0;\n",
       "  position: absolute;\n",
       "  width: 1px;\n",
       "}\n",
       "\n",
       "#sk-container-id-1 div.sk-dashed-wrapped {\n",
       "  border: 1px dashed var(--sklearn-color-line);\n",
       "  margin: 0 0.4em 0.5em 0.4em;\n",
       "  box-sizing: border-box;\n",
       "  padding-bottom: 0.4em;\n",
       "  background-color: var(--sklearn-color-background);\n",
       "}\n",
       "\n",
       "#sk-container-id-1 div.sk-container {\n",
       "  /* jupyter's `normalize.less` sets `[hidden] { display: none; }`\n",
       "     but bootstrap.min.css set `[hidden] { display: none !important; }`\n",
       "     so we also need the `!important` here to be able to override the\n",
       "     default hidden behavior on the sphinx rendered scikit-learn.org.\n",
       "     See: https://github.com/scikit-learn/scikit-learn/issues/21755 */\n",
       "  display: inline-block !important;\n",
       "  position: relative;\n",
       "}\n",
       "\n",
       "#sk-container-id-1 div.sk-text-repr-fallback {\n",
       "  display: none;\n",
       "}\n",
       "\n",
       "div.sk-parallel-item,\n",
       "div.sk-serial,\n",
       "div.sk-item {\n",
       "  /* draw centered vertical line to link estimators */\n",
       "  background-image: linear-gradient(var(--sklearn-color-text-on-default-background), var(--sklearn-color-text-on-default-background));\n",
       "  background-size: 2px 100%;\n",
       "  background-repeat: no-repeat;\n",
       "  background-position: center center;\n",
       "}\n",
       "\n",
       "/* Parallel-specific style estimator block */\n",
       "\n",
       "#sk-container-id-1 div.sk-parallel-item::after {\n",
       "  content: \"\";\n",
       "  width: 100%;\n",
       "  border-bottom: 2px solid var(--sklearn-color-text-on-default-background);\n",
       "  flex-grow: 1;\n",
       "}\n",
       "\n",
       "#sk-container-id-1 div.sk-parallel {\n",
       "  display: flex;\n",
       "  align-items: stretch;\n",
       "  justify-content: center;\n",
       "  background-color: var(--sklearn-color-background);\n",
       "  position: relative;\n",
       "}\n",
       "\n",
       "#sk-container-id-1 div.sk-parallel-item {\n",
       "  display: flex;\n",
       "  flex-direction: column;\n",
       "}\n",
       "\n",
       "#sk-container-id-1 div.sk-parallel-item:first-child::after {\n",
       "  align-self: flex-end;\n",
       "  width: 50%;\n",
       "}\n",
       "\n",
       "#sk-container-id-1 div.sk-parallel-item:last-child::after {\n",
       "  align-self: flex-start;\n",
       "  width: 50%;\n",
       "}\n",
       "\n",
       "#sk-container-id-1 div.sk-parallel-item:only-child::after {\n",
       "  width: 0;\n",
       "}\n",
       "\n",
       "/* Serial-specific style estimator block */\n",
       "\n",
       "#sk-container-id-1 div.sk-serial {\n",
       "  display: flex;\n",
       "  flex-direction: column;\n",
       "  align-items: center;\n",
       "  background-color: var(--sklearn-color-background);\n",
       "  padding-right: 1em;\n",
       "  padding-left: 1em;\n",
       "}\n",
       "\n",
       "\n",
       "/* Toggleable style: style used for estimator/Pipeline/ColumnTransformer box that is\n",
       "clickable and can be expanded/collapsed.\n",
       "- Pipeline and ColumnTransformer use this feature and define the default style\n",
       "- Estimators will overwrite some part of the style using the `sk-estimator` class\n",
       "*/\n",
       "\n",
       "/* Pipeline and ColumnTransformer style (default) */\n",
       "\n",
       "#sk-container-id-1 div.sk-toggleable {\n",
       "  /* Default theme specific background. It is overwritten whether we have a\n",
       "  specific estimator or a Pipeline/ColumnTransformer */\n",
       "  background-color: var(--sklearn-color-background);\n",
       "}\n",
       "\n",
       "/* Toggleable label */\n",
       "#sk-container-id-1 label.sk-toggleable__label {\n",
       "  cursor: pointer;\n",
       "  display: block;\n",
       "  width: 100%;\n",
       "  margin-bottom: 0;\n",
       "  padding: 0.5em;\n",
       "  box-sizing: border-box;\n",
       "  text-align: center;\n",
       "}\n",
       "\n",
       "#sk-container-id-1 label.sk-toggleable__label-arrow:before {\n",
       "  /* Arrow on the left of the label */\n",
       "  content: \"▸\";\n",
       "  float: left;\n",
       "  margin-right: 0.25em;\n",
       "  color: var(--sklearn-color-icon);\n",
       "}\n",
       "\n",
       "#sk-container-id-1 label.sk-toggleable__label-arrow:hover:before {\n",
       "  color: var(--sklearn-color-text);\n",
       "}\n",
       "\n",
       "/* Toggleable content - dropdown */\n",
       "\n",
       "#sk-container-id-1 div.sk-toggleable__content {\n",
       "  max-height: 0;\n",
       "  max-width: 0;\n",
       "  overflow: hidden;\n",
       "  text-align: left;\n",
       "  /* unfitted */\n",
       "  background-color: var(--sklearn-color-unfitted-level-0);\n",
       "}\n",
       "\n",
       "#sk-container-id-1 div.sk-toggleable__content.fitted {\n",
       "  /* fitted */\n",
       "  background-color: var(--sklearn-color-fitted-level-0);\n",
       "}\n",
       "\n",
       "#sk-container-id-1 div.sk-toggleable__content pre {\n",
       "  margin: 0.2em;\n",
       "  border-radius: 0.25em;\n",
       "  color: var(--sklearn-color-text);\n",
       "  /* unfitted */\n",
       "  background-color: var(--sklearn-color-unfitted-level-0);\n",
       "}\n",
       "\n",
       "#sk-container-id-1 div.sk-toggleable__content.fitted pre {\n",
       "  /* unfitted */\n",
       "  background-color: var(--sklearn-color-fitted-level-0);\n",
       "}\n",
       "\n",
       "#sk-container-id-1 input.sk-toggleable__control:checked~div.sk-toggleable__content {\n",
       "  /* Expand drop-down */\n",
       "  max-height: 200px;\n",
       "  max-width: 100%;\n",
       "  overflow: auto;\n",
       "}\n",
       "\n",
       "#sk-container-id-1 input.sk-toggleable__control:checked~label.sk-toggleable__label-arrow:before {\n",
       "  content: \"▾\";\n",
       "}\n",
       "\n",
       "/* Pipeline/ColumnTransformer-specific style */\n",
       "\n",
       "#sk-container-id-1 div.sk-label input.sk-toggleable__control:checked~label.sk-toggleable__label {\n",
       "  color: var(--sklearn-color-text);\n",
       "  background-color: var(--sklearn-color-unfitted-level-2);\n",
       "}\n",
       "\n",
       "#sk-container-id-1 div.sk-label.fitted input.sk-toggleable__control:checked~label.sk-toggleable__label {\n",
       "  background-color: var(--sklearn-color-fitted-level-2);\n",
       "}\n",
       "\n",
       "/* Estimator-specific style */\n",
       "\n",
       "/* Colorize estimator box */\n",
       "#sk-container-id-1 div.sk-estimator input.sk-toggleable__control:checked~label.sk-toggleable__label {\n",
       "  /* unfitted */\n",
       "  background-color: var(--sklearn-color-unfitted-level-2);\n",
       "}\n",
       "\n",
       "#sk-container-id-1 div.sk-estimator.fitted input.sk-toggleable__control:checked~label.sk-toggleable__label {\n",
       "  /* fitted */\n",
       "  background-color: var(--sklearn-color-fitted-level-2);\n",
       "}\n",
       "\n",
       "#sk-container-id-1 div.sk-label label.sk-toggleable__label,\n",
       "#sk-container-id-1 div.sk-label label {\n",
       "  /* The background is the default theme color */\n",
       "  color: var(--sklearn-color-text-on-default-background);\n",
       "}\n",
       "\n",
       "/* On hover, darken the color of the background */\n",
       "#sk-container-id-1 div.sk-label:hover label.sk-toggleable__label {\n",
       "  color: var(--sklearn-color-text);\n",
       "  background-color: var(--sklearn-color-unfitted-level-2);\n",
       "}\n",
       "\n",
       "/* Label box, darken color on hover, fitted */\n",
       "#sk-container-id-1 div.sk-label.fitted:hover label.sk-toggleable__label.fitted {\n",
       "  color: var(--sklearn-color-text);\n",
       "  background-color: var(--sklearn-color-fitted-level-2);\n",
       "}\n",
       "\n",
       "/* Estimator label */\n",
       "\n",
       "#sk-container-id-1 div.sk-label label {\n",
       "  font-family: monospace;\n",
       "  font-weight: bold;\n",
       "  display: inline-block;\n",
       "  line-height: 1.2em;\n",
       "}\n",
       "\n",
       "#sk-container-id-1 div.sk-label-container {\n",
       "  text-align: center;\n",
       "}\n",
       "\n",
       "/* Estimator-specific */\n",
       "#sk-container-id-1 div.sk-estimator {\n",
       "  font-family: monospace;\n",
       "  border: 1px dotted var(--sklearn-color-border-box);\n",
       "  border-radius: 0.25em;\n",
       "  box-sizing: border-box;\n",
       "  margin-bottom: 0.5em;\n",
       "  /* unfitted */\n",
       "  background-color: var(--sklearn-color-unfitted-level-0);\n",
       "}\n",
       "\n",
       "#sk-container-id-1 div.sk-estimator.fitted {\n",
       "  /* fitted */\n",
       "  background-color: var(--sklearn-color-fitted-level-0);\n",
       "}\n",
       "\n",
       "/* on hover */\n",
       "#sk-container-id-1 div.sk-estimator:hover {\n",
       "  /* unfitted */\n",
       "  background-color: var(--sklearn-color-unfitted-level-2);\n",
       "}\n",
       "\n",
       "#sk-container-id-1 div.sk-estimator.fitted:hover {\n",
       "  /* fitted */\n",
       "  background-color: var(--sklearn-color-fitted-level-2);\n",
       "}\n",
       "\n",
       "/* Specification for estimator info (e.g. \"i\" and \"?\") */\n",
       "\n",
       "/* Common style for \"i\" and \"?\" */\n",
       "\n",
       ".sk-estimator-doc-link,\n",
       "a:link.sk-estimator-doc-link,\n",
       "a:visited.sk-estimator-doc-link {\n",
       "  float: right;\n",
       "  font-size: smaller;\n",
       "  line-height: 1em;\n",
       "  font-family: monospace;\n",
       "  background-color: var(--sklearn-color-background);\n",
       "  border-radius: 1em;\n",
       "  height: 1em;\n",
       "  width: 1em;\n",
       "  text-decoration: none !important;\n",
       "  margin-left: 1ex;\n",
       "  /* unfitted */\n",
       "  border: var(--sklearn-color-unfitted-level-1) 1pt solid;\n",
       "  color: var(--sklearn-color-unfitted-level-1);\n",
       "}\n",
       "\n",
       ".sk-estimator-doc-link.fitted,\n",
       "a:link.sk-estimator-doc-link.fitted,\n",
       "a:visited.sk-estimator-doc-link.fitted {\n",
       "  /* fitted */\n",
       "  border: var(--sklearn-color-fitted-level-1) 1pt solid;\n",
       "  color: var(--sklearn-color-fitted-level-1);\n",
       "}\n",
       "\n",
       "/* On hover */\n",
       "div.sk-estimator:hover .sk-estimator-doc-link:hover,\n",
       ".sk-estimator-doc-link:hover,\n",
       "div.sk-label-container:hover .sk-estimator-doc-link:hover,\n",
       ".sk-estimator-doc-link:hover {\n",
       "  /* unfitted */\n",
       "  background-color: var(--sklearn-color-unfitted-level-3);\n",
       "  color: var(--sklearn-color-background);\n",
       "  text-decoration: none;\n",
       "}\n",
       "\n",
       "div.sk-estimator.fitted:hover .sk-estimator-doc-link.fitted:hover,\n",
       ".sk-estimator-doc-link.fitted:hover,\n",
       "div.sk-label-container:hover .sk-estimator-doc-link.fitted:hover,\n",
       ".sk-estimator-doc-link.fitted:hover {\n",
       "  /* fitted */\n",
       "  background-color: var(--sklearn-color-fitted-level-3);\n",
       "  color: var(--sklearn-color-background);\n",
       "  text-decoration: none;\n",
       "}\n",
       "\n",
       "/* Span, style for the box shown on hovering the info icon */\n",
       ".sk-estimator-doc-link span {\n",
       "  display: none;\n",
       "  z-index: 9999;\n",
       "  position: relative;\n",
       "  font-weight: normal;\n",
       "  right: .2ex;\n",
       "  padding: .5ex;\n",
       "  margin: .5ex;\n",
       "  width: min-content;\n",
       "  min-width: 20ex;\n",
       "  max-width: 50ex;\n",
       "  color: var(--sklearn-color-text);\n",
       "  box-shadow: 2pt 2pt 4pt #999;\n",
       "  /* unfitted */\n",
       "  background: var(--sklearn-color-unfitted-level-0);\n",
       "  border: .5pt solid var(--sklearn-color-unfitted-level-3);\n",
       "}\n",
       "\n",
       ".sk-estimator-doc-link.fitted span {\n",
       "  /* fitted */\n",
       "  background: var(--sklearn-color-fitted-level-0);\n",
       "  border: var(--sklearn-color-fitted-level-3);\n",
       "}\n",
       "\n",
       ".sk-estimator-doc-link:hover span {\n",
       "  display: block;\n",
       "}\n",
       "\n",
       "/* \"?\"-specific style due to the `<a>` HTML tag */\n",
       "\n",
       "#sk-container-id-1 a.estimator_doc_link {\n",
       "  float: right;\n",
       "  font-size: 1rem;\n",
       "  line-height: 1em;\n",
       "  font-family: monospace;\n",
       "  background-color: var(--sklearn-color-background);\n",
       "  border-radius: 1rem;\n",
       "  height: 1rem;\n",
       "  width: 1rem;\n",
       "  text-decoration: none;\n",
       "  /* unfitted */\n",
       "  color: var(--sklearn-color-unfitted-level-1);\n",
       "  border: var(--sklearn-color-unfitted-level-1) 1pt solid;\n",
       "}\n",
       "\n",
       "#sk-container-id-1 a.estimator_doc_link.fitted {\n",
       "  /* fitted */\n",
       "  border: var(--sklearn-color-fitted-level-1) 1pt solid;\n",
       "  color: var(--sklearn-color-fitted-level-1);\n",
       "}\n",
       "\n",
       "/* On hover */\n",
       "#sk-container-id-1 a.estimator_doc_link:hover {\n",
       "  /* unfitted */\n",
       "  background-color: var(--sklearn-color-unfitted-level-3);\n",
       "  color: var(--sklearn-color-background);\n",
       "  text-decoration: none;\n",
       "}\n",
       "\n",
       "#sk-container-id-1 a.estimator_doc_link.fitted:hover {\n",
       "  /* fitted */\n",
       "  background-color: var(--sklearn-color-fitted-level-3);\n",
       "}\n",
       "</style><div id=\"sk-container-id-1\" class=\"sk-top-container\"><div class=\"sk-text-repr-fallback\"><pre>KMeans(n_clusters=4, random_state=42)</pre><b>In a Jupyter environment, please rerun this cell to show the HTML representation or trust the notebook. <br />On GitHub, the HTML representation is unable to render, please try loading this page with nbviewer.org.</b></div><div class=\"sk-container\" hidden><div class=\"sk-item\"><div class=\"sk-estimator fitted sk-toggleable\"><input class=\"sk-toggleable__control sk-hidden--visually\" id=\"sk-estimator-id-1\" type=\"checkbox\" checked><label for=\"sk-estimator-id-1\" class=\"sk-toggleable__label fitted sk-toggleable__label-arrow fitted\">&nbsp;&nbsp;KMeans<a class=\"sk-estimator-doc-link fitted\" rel=\"noreferrer\" target=\"_blank\" href=\"https://scikit-learn.org/1.5/modules/generated/sklearn.cluster.KMeans.html\">?<span>Documentation for KMeans</span></a><span class=\"sk-estimator-doc-link fitted\">i<span>Fitted</span></span></label><div class=\"sk-toggleable__content fitted\"><pre>KMeans(n_clusters=4, random_state=42)</pre></div> </div></div></div></div>"
      ],
      "text/plain": [
       "KMeans(n_clusters=4, random_state=42)"
      ]
     },
     "execution_count": 139,
     "metadata": {},
     "output_type": "execute_result"
    }
   ],
   "source": [
    "# Perform K-means clustering with the optimal number of clusters\n",
    "kmeans = KMeans(n_clusters=4, init='k-means++', random_state=42)\n",
    "kmeans.fit(data)"
   ]
  },
  {
   "cell_type": "code",
   "execution_count": 141,
   "id": "697ce85d-d717-4ba3-9895-d175506b3353",
   "metadata": {},
   "outputs": [
    {
     "data": {
      "image/png": "[encoded data removed]",
      "text/plain": [
       "<Figure size 640x480 with 1 Axes>"
      ]
     },
     "metadata": {},
     "output_type": "display_data"
    }
   ],
   "source": [
    "# Add the cluster labels to the dataset\n",
    "data['Cluster'] = kmeans.labels_\n",
    "# Visualize the clusters\n",
    "plt.scatter(pca_data[:, 0], pca_data[:, 1], c=data['Cluster'], cmap='viridis')\n",
    "plt.xlabel('Principal Component 1')\n",
    "plt.ylabel('Principal Component 2')\n",
    "plt.title('EV Market Segmentation - Cluster Analysis')\n",
    "plt.show()"
   ]
  },
  {
   "cell_type": "markdown",
   "id": "c58a49a3-b6ab-473c-ae8a-d69a231dedd1",
   "metadata": {},
   "source": [
    "#Making Predictions"
   ]
  },
  {
   "cell_type": "code",
   "execution_count": 144,
   "id": "9823379b-6eb0-4a9f-967b-a413ee0b3a74",
   "metadata": {},
   "outputs": [],
   "source": [
    "kmeans_predict=KMeans(n_clusters=4,random_state=123)\n",
    "clusters=kmeans_predict.fit_predict(data)\n",
    "data_copy[\"Clusters\"]=clusters"
   ]
  },
  {
   "cell_type": "code",
   "execution_count": 146,
   "id": "49466f9b-f4a3-4481-b0e0-f77ff80230cb",
   "metadata": {},
   "outputs": [
    {
     "data": {
      "text/html": [
       "<div>\n",
       "<style scoped>\n",
       "    .dataframe tbody tr th:only-of-type {\n",
       "        vertical-align: middle;\n",
       "    }\n",
       "\n",
       "    .dataframe tbody tr th {\n",
       "        vertical-align: top;\n",
       "    }\n",
       "\n",
       "    .dataframe thead th {\n",
       "        text-align: right;\n",
       "    }\n",
       "</style>\n",
       "<table border=\"1\" class=\"dataframe\">\n",
       "  <thead>\n",
       "    <tr style=\"text-align: right;\">\n",
       "      <th></th>\n",
       "      <th>Unnamed: 0</th>\n",
       "      <th>Age</th>\n",
       "      <th>City</th>\n",
       "      <th>Profession</th>\n",
       "      <th>Marital Status</th>\n",
       "      <th>Education</th>\n",
       "      <th>No. of Family members</th>\n",
       "      <th>Annual Income</th>\n",
       "      <th>Would you prefer replacing all your vehicles to Electronic vehicles?</th>\n",
       "      <th>If Yes/Maybe what type of  EV would you prefer?</th>\n",
       "      <th>Do you think Electronic Vehicles are economical?</th>\n",
       "      <th>Which brand of vehicle do you currently own?</th>\n",
       "      <th>How much money could you spend on an Electronic vehicle?</th>\n",
       "      <th>Preference for wheels in EV</th>\n",
       "      <th>Do you think Electronic vehicles will replace fuel cars in India?</th>\n",
       "      <th>Clusters</th>\n",
       "    </tr>\n",
       "  </thead>\n",
       "  <tbody>\n",
       "    <tr>\n",
       "      <th>0</th>\n",
       "      <td>0</td>\n",
       "      <td>30</td>\n",
       "      <td>Nabha</td>\n",
       "      <td>None</td>\n",
       "      <td>Single</td>\n",
       "      <td>Graduate</td>\n",
       "      <td>5</td>\n",
       "      <td>1.193876e+06</td>\n",
       "      <td>Maybe</td>\n",
       "      <td>SUV</td>\n",
       "      <td>Yes</td>\n",
       "      <td>Hyundai</td>\n",
       "      <td>&lt;5 lakhs</td>\n",
       "      <td>2</td>\n",
       "      <td>I don't think so</td>\n",
       "      <td>3</td>\n",
       "    </tr>\n",
       "    <tr>\n",
       "      <th>1</th>\n",
       "      <td>1</td>\n",
       "      <td>27</td>\n",
       "      <td>Pune</td>\n",
       "      <td>None</td>\n",
       "      <td>Single</td>\n",
       "      <td>Graduate</td>\n",
       "      <td>4</td>\n",
       "      <td>1.844540e+06</td>\n",
       "      <td>Yes</td>\n",
       "      <td>SUV</td>\n",
       "      <td>Yes</td>\n",
       "      <td>Honda</td>\n",
       "      <td>&lt;15 lakhs</td>\n",
       "      <td>4</td>\n",
       "      <td>Yes, in &lt;20years</td>\n",
       "      <td>1</td>\n",
       "    </tr>\n",
       "    <tr>\n",
       "      <th>2</th>\n",
       "      <td>2</td>\n",
       "      <td>32</td>\n",
       "      <td>Kashipur</td>\n",
       "      <td>None</td>\n",
       "      <td>Single</td>\n",
       "      <td>Graduate</td>\n",
       "      <td>4</td>\n",
       "      <td>2.948150e+06</td>\n",
       "      <td>Yes</td>\n",
       "      <td>Hatchback</td>\n",
       "      <td>Yes</td>\n",
       "      <td>KIA</td>\n",
       "      <td>&lt;15 lakhs</td>\n",
       "      <td>4</td>\n",
       "      <td>Yes, in &lt;20years</td>\n",
       "      <td>0</td>\n",
       "    </tr>\n",
       "    <tr>\n",
       "      <th>3</th>\n",
       "      <td>3</td>\n",
       "      <td>55</td>\n",
       "      <td>Pune</td>\n",
       "      <td>Business</td>\n",
       "      <td>Single</td>\n",
       "      <td>Graduate</td>\n",
       "      <td>3</td>\n",
       "      <td>2.832380e+06</td>\n",
       "      <td>Maybe</td>\n",
       "      <td>Hatchback</td>\n",
       "      <td>No</td>\n",
       "      <td>Hyundai</td>\n",
       "      <td>&lt;5 lakhs</td>\n",
       "      <td>4</td>\n",
       "      <td>Yes, in &lt;10 years</td>\n",
       "      <td>0</td>\n",
       "    </tr>\n",
       "    <tr>\n",
       "      <th>4</th>\n",
       "      <td>4</td>\n",
       "      <td>26</td>\n",
       "      <td>Satara</td>\n",
       "      <td>None</td>\n",
       "      <td>Single</td>\n",
       "      <td>Graduate</td>\n",
       "      <td>4</td>\n",
       "      <td>2.638751e+06</td>\n",
       "      <td>Yes</td>\n",
       "      <td>Sedan</td>\n",
       "      <td>Yes</td>\n",
       "      <td>McLaren</td>\n",
       "      <td>&lt;15 lakhs</td>\n",
       "      <td>4</td>\n",
       "      <td>Yes, in &lt;20years</td>\n",
       "      <td>0</td>\n",
       "    </tr>\n",
       "  </tbody>\n",
       "</table>\n",
       "</div>"
      ],
      "text/plain": [
       "   Unnamed: 0  Age       City Profession Marital Status Education  \\\n",
       "0           0   30      Nabha       None         Single  Graduate   \n",
       "1           1   27       Pune       None         Single  Graduate   \n",
       "2           2   32  Kashipur        None         Single  Graduate   \n",
       "3           3   55       Pune   Business         Single  Graduate   \n",
       "4           4   26     Satara       None         Single  Graduate   \n",
       "\n",
       "   No. of Family members  Annual Income  \\\n",
       "0                      5   1.193876e+06   \n",
       "1                      4   1.844540e+06   \n",
       "2                      4   2.948150e+06   \n",
       "3                      3   2.832380e+06   \n",
       "4                      4   2.638751e+06   \n",
       "\n",
       "  Would you prefer replacing all your vehicles to Electronic vehicles?  \\\n",
       "0                                              Maybe                     \n",
       "1                                                Yes                     \n",
       "2                                                Yes                     \n",
       "3                                              Maybe                     \n",
       "4                                                Yes                     \n",
       "\n",
       "  If Yes/Maybe what type of  EV would you prefer?  \\\n",
       "0                                             SUV   \n",
       "1                                             SUV   \n",
       "2                                       Hatchback   \n",
       "3                                       Hatchback   \n",
       "4                                           Sedan   \n",
       "\n",
       "  Do you think Electronic Vehicles are economical?  \\\n",
       "0                                              Yes   \n",
       "1                                              Yes   \n",
       "2                                              Yes   \n",
       "3                                               No   \n",
       "4                                              Yes   \n",
       "\n",
       "  Which brand of vehicle do you currently own?  \\\n",
       "0                                      Hyundai   \n",
       "1                                        Honda   \n",
       "2                                          KIA   \n",
       "3                                      Hyundai   \n",
       "4                                     McLaren    \n",
       "\n",
       "  How much money could you spend on an Electronic vehicle?  \\\n",
       "0                                           <5 lakhs         \n",
       "1                                          <15 lakhs         \n",
       "2                                          <15 lakhs         \n",
       "3                                           <5 lakhs         \n",
       "4                                          <15 lakhs         \n",
       "\n",
       "   Preference for wheels in EV  \\\n",
       "0                            2   \n",
       "1                            4   \n",
       "2                            4   \n",
       "3                            4   \n",
       "4                            4   \n",
       "\n",
       "  Do you think Electronic vehicles will replace fuel cars in India?  Clusters  \n",
       "0                                   I don't think so                        3  \n",
       "1                                   Yes, in <20years                        1  \n",
       "2                                   Yes, in <20years                        0  \n",
       "3                                  Yes, in <10 years                        0  \n",
       "4                                   Yes, in <20years                        0  "
      ]
     },
     "execution_count": 146,
     "metadata": {},
     "output_type": "execute_result"
    }
   ],
   "source": [
    "data_copy.head()"
   ]
  },
  {
   "cell_type": "code",
   "execution_count": 148,
   "id": "75c27bfb-45d9-4fb5-853d-182dc73a5a9c",
   "metadata": {},
   "outputs": [
    {
     "data": {
      "text/plain": [
       "Clusters\n",
       "0    452\n",
       "1    360\n",
       "3    181\n",
       "2      7\n",
       "Name: count, dtype: int64"
      ]
     },
     "execution_count": 148,
     "metadata": {},
     "output_type": "execute_result"
    }
   ],
   "source": [
    "data_copy[\"Clusters\"].value_counts()"
   ]
  },
  {
   "cell_type": "code",
   "execution_count": 150,
   "id": "ad6f0a37-5034-485f-8116-e8166968dfa8",
   "metadata": {},
   "outputs": [],
   "source": [
    "data_copy[\"City\"]=data_copy[\"City\"].replace({\"Pune \":\"Pune\",\"pUNE\":\"Pune\",\"pune\":\"Pune\",\"Pune\":\"Pune\"})\n",
    "data_copy[\"City\"]=data_copy[\"City\"].replace({\"Banglore \":\"Bengaluru\"})\n",
    "data_copy[\"City\"]=data_copy[\"City\"].replace({\"Hakdwani\":\"Haldwani\",\"Haldwani \":\"Haldwani\"})\n",
    "data_copy[\"City\"]=data_copy[\"City\"].replace({\"New Delhi \":\"Delhi\",\"Delhi \":\"Delhi\"})\n",
    "data_copy[\"City\"]=data_copy[\"City\"].replace({\"nashik\":\"Nashik\"})\n",
    "data_copy[\"City\"]=data_copy[\"City\"].replace({\"Mumbai \":\"Mumbai\"})"
   ]
  },
  {
   "cell_type": "markdown",
   "id": "242fa42e-f4d0-4c5c-acae-e50c00895f0f",
   "metadata": {},
   "source": [
    "#Bifurcating the data according to the cluster"
   ]
  },
  {
   "cell_type": "code",
   "execution_count": 153,
   "id": "39da80a5-73c2-4cb0-b70c-b6babffc0ad2",
   "metadata": {},
   "outputs": [],
   "source": [
    "Cluster_0=data_copy[data_copy.Clusters==0]\n",
    "Cluster_1=data_copy[data_copy.Clusters==1]\n",
    "Cluster_2=data_copy[data_copy.Clusters==2]\n",
    "Cluster_3=data_copy[data_copy.Clusters==3]"
   ]
  },
  {
   "cell_type": "markdown",
   "id": "aaeb2436-ae38-4ccd-97fa-207b46cc8aaa",
   "metadata": {},
   "source": [
    "#Demographic Segments\n",
    "#Age Group"
   ]
  },
  {
   "cell_type": "code",
   "execution_count": 156,
   "id": "a10bff69-23eb-4ee1-8461-b6b2847aac95",
   "metadata": {},
   "outputs": [
    {
     "data": {
      "text/plain": [
       "[Age\n",
       " 29    51\n",
       " 28    46\n",
       " 30    45\n",
       " 25    41\n",
       " 26    39\n",
       " Name: count, dtype: int64,\n",
       " Age\n",
       " 29    43\n",
       " 28    41\n",
       " 27    36\n",
       " 30    36\n",
       " 31    35\n",
       " Name: count, dtype: int64,\n",
       " Age\n",
       " 30    2\n",
       " 26    1\n",
       " 29    1\n",
       " 56    1\n",
       " 28    1\n",
       " Name: count, dtype: int64,\n",
       " Age\n",
       " 31    26\n",
       " 30    22\n",
       " 29    21\n",
       " 27    16\n",
       " 28    14\n",
       " Name: count, dtype: int64]"
      ]
     },
     "execution_count": 156,
     "metadata": {},
     "output_type": "execute_result"
    }
   ],
   "source": [
    "[Cluster_0[\"Age\"].value_counts().head(),\n",
    "Cluster_1[\"Age\"].value_counts().head(),\n",
    "Cluster_2[\"Age\"].value_counts().head(),\n",
    "Cluster_3[\"Age\"].value_counts().head()]\n",
    "\n",
    "# Age group of 28-31 needs to be targeted"
   ]
  },
  {
   "cell_type": "code",
   "execution_count": 158,
   "id": "41cfe77f-0bad-4a32-bcc5-39448f3fd3e4",
   "metadata": {},
   "outputs": [
    {
     "data": {
      "text/plain": [
       "[Profession\n",
       " None                    217\n",
       " Working Professional    143\n",
       " Business                 76\n",
       " Salaried                 16\n",
       " Name: count, dtype: int64,\n",
       " Profession\n",
       " None                    157\n",
       " Working Professional    128\n",
       " Business                 62\n",
       " Salaried                 13\n",
       " Name: count, dtype: int64,\n",
       " Profession\n",
       " None                    5\n",
       " Working Professional    1\n",
       " Business                1\n",
       " Name: count, dtype: int64,\n",
       " Profession\n",
       " None                    81\n",
       " Working Professional    64\n",
       " Business                28\n",
       " Salaried                 8\n",
       " Name: count, dtype: int64]"
      ]
     },
     "execution_count": 158,
     "metadata": {},
     "output_type": "execute_result"
    }
   ],
   "source": [
    "[Cluster_0[\"Profession\"].value_counts().head(),\n",
    "Cluster_1[\"Profession\"].value_counts().head(),\n",
    "Cluster_2[\"Profession\"].value_counts().head(),\n",
    "Cluster_3[\"Profession\"].value_counts().head()]"
   ]
  },
  {
   "cell_type": "markdown",
   "id": "e50dc3fb-3984-40cb-84b6-39fa3cecba3e",
   "metadata": {},
   "source": [
    "#Education"
   ]
  },
  {
   "cell_type": "code",
   "execution_count": 161,
   "id": "74013f69-7047-48af-8f46-3878e717f9cd",
   "metadata": {},
   "outputs": [
    {
     "data": {
      "text/plain": [
       "[Education\n",
       " Graduate         311\n",
       " Post Graduate    141\n",
       " Name: count, dtype: int64,\n",
       " Education\n",
       " Graduate         257\n",
       " Post Graduate    103\n",
       " Name: count, dtype: int64,\n",
       " Education\n",
       " Graduate         5\n",
       " Post Graduate    2\n",
       " Name: count, dtype: int64,\n",
       " Education\n",
       " Graduate         120\n",
       " Post Graduate     61\n",
       " Name: count, dtype: int64]"
      ]
     },
     "execution_count": 161,
     "metadata": {},
     "output_type": "execute_result"
    }
   ],
   "source": [
    "[Cluster_0[\"Education\"].value_counts().head(),\n",
    "Cluster_1[\"Education\"].value_counts().head(),\n",
    "Cluster_2[\"Education\"].value_counts().head(),\n",
    "Cluster_3[\"Education\"].value_counts().head()]\n",
    "\n",
    "# Graduate people needs to be targeted most"
   ]
  },
  {
   "cell_type": "markdown",
   "id": "ca17e26f-d238-4dd8-b4a9-cc36a5faee2e",
   "metadata": {},
   "source": [
    "#Income group"
   ]
  },
  {
   "cell_type": "code",
   "execution_count": 164,
   "id": "56035622-20be-4a99-91f1-7a378c0aaadc",
   "metadata": {},
   "outputs": [
    {
     "data": {
      "text/plain": [
       "[2793174.6687453142,\n",
       " 2023562.4240591042,\n",
       " 10737228.104106281,\n",
       " 1061788.9730110408]"
      ]
     },
     "execution_count": 164,
     "metadata": {},
     "output_type": "execute_result"
    }
   ],
   "source": [
    "[Cluster_0[\"Annual Income\"].mean(),\n",
    "Cluster_1[\"Annual Income\"].mean(),\n",
    "Cluster_2[\"Annual Income\"].mean(),\n",
    "Cluster_3[\"Annual Income\"].mean()]\n",
    "\n",
    "# Cluster 1 has the highest average income, followed by cluster 0,3,2"
   ]
  },
  {
   "cell_type": "markdown",
   "id": "0d84eb02-db16-4493-bb99-241d144e263a",
   "metadata": {},
   "source": [
    "#Geographic Segments"
   ]
  },
  {
   "cell_type": "code",
   "execution_count": 167,
   "id": "5a6dd1fd-048e-4b0c-8bb1-dcac7f44703b",
   "metadata": {},
   "outputs": [
    {
     "data": {
      "text/plain": [
       "[City\n",
       " Pune         295\n",
       " Mumbai        25\n",
       " Delhi         18\n",
       " Bengaluru     12\n",
       " New Delhi     11\n",
       " Name: count, dtype: int64,\n",
       " City\n",
       " Pune        222\n",
       " Mumbai       15\n",
       " Delhi        13\n",
       " Haldwani     11\n",
       " Nagpur       10\n",
       " Name: count, dtype: int64,\n",
       " City\n",
       " Pune         4\n",
       " Mumbai       2\n",
       " Ahmedabad    1\n",
       " Name: count, dtype: int64,\n",
       " City\n",
       " Pune        100\n",
       " Mumbai       14\n",
       " Delhi         7\n",
       " Haldwani      6\n",
       " Chennai       6\n",
       " Name: count, dtype: int64]"
      ]
     },
     "execution_count": 167,
     "metadata": {},
     "output_type": "execute_result"
    }
   ],
   "source": [
    "[Cluster_0[\"City\"].value_counts().head(),\n",
    "Cluster_1[\"City\"].value_counts().head(),\n",
    "Cluster_2[\"City\"].value_counts().head(),\n",
    "Cluster_3[\"City\"].value_counts().head()]\n",
    "\n",
    "# Pune and Mumbai are present in all the cluster and they are more suitable to target the EV Market\n",
    "# Delhi, Haldwani and Bengaluru should be the next city to target\n",
    "# Followed by Satara and Chennai"
   ]
  },
  {
   "cell_type": "markdown",
   "id": "5968ea84-afdb-4cd8-9464-96db3cc39561",
   "metadata": {},
   "source": [
    "#Psychographic segments"
   ]
  },
  {
   "cell_type": "markdown",
   "id": "286224d4-ef63-4f7f-92eb-9c634d4c236b",
   "metadata": {},
   "source": [
    "#Martial Status"
   ]
  },
  {
   "cell_type": "code",
   "execution_count": 171,
   "id": "8c30cff8-a16a-41fe-a968-c08c659bf534",
   "metadata": {},
   "outputs": [
    {
     "data": {
      "text/plain": [
       "[Marital Status\n",
       " Single     297\n",
       " Married    155\n",
       " Name: count, dtype: int64,\n",
       " Marital Status\n",
       " Single     218\n",
       " Married    142\n",
       " Name: count, dtype: int64,\n",
       " Marital Status\n",
       " Married    5\n",
       " Single     2\n",
       " Name: count, dtype: int64,\n",
       " Marital Status\n",
       " Single     121\n",
       " Married     60\n",
       " Name: count, dtype: int64]"
      ]
     },
     "execution_count": 171,
     "metadata": {},
     "output_type": "execute_result"
    }
   ],
   "source": [
    "[Cluster_0[\"Marital Status\"].value_counts().head(),\n",
    "Cluster_1[\"Marital Status\"].value_counts().head(),\n",
    "Cluster_2[\"Marital Status\"].value_counts().head(),\n",
    "Cluster_3[\"Marital Status\"].value_counts().head()]\n",
    "\n",
    "# Single People should be the targeted"
   ]
  },
  {
   "cell_type": "markdown",
   "id": "06bcc6ae-5370-4be7-8499-b0344a195305",
   "metadata": {},
   "source": [
    "#No of Family Memebers"
   ]
  },
  {
   "cell_type": "code",
   "execution_count": 176,
   "id": "c8449164-3d73-44f0-bb16-872d78460bad",
   "metadata": {},
   "outputs": [
    {
     "data": {
      "text/plain": [
       "[No. of Family members\n",
       " 4    246\n",
       " 5     64\n",
       " 3     61\n",
       " 6     23\n",
       " 2     15\n",
       " Name: count, dtype: int64,\n",
       " No. of Family members\n",
       " 4    185\n",
       " 5     57\n",
       " 3     45\n",
       " 8     21\n",
       " 6     15\n",
       " Name: count, dtype: int64,\n",
       " No. of Family members\n",
       " 4    3\n",
       " 6    2\n",
       " 5    1\n",
       " 8    1\n",
       " Name: count, dtype: int64,\n",
       " No. of Family members\n",
       " 4    82\n",
       " 5    36\n",
       " 3    21\n",
       " 8    12\n",
       " 6    10\n",
       " Name: count, dtype: int64]"
      ]
     },
     "execution_count": 176,
     "metadata": {},
     "output_type": "execute_result"
    }
   ],
   "source": [
    "[Cluster_0[\"No. of Family members\"].value_counts().head(),\n",
    "Cluster_1[\"No. of Family members\"].value_counts().head(),\n",
    "Cluster_2[\"No. of Family members\"].value_counts().head(),\n",
    "Cluster_3[\"No. of Family members\"].value_counts().head()]\n",
    "\n",
    "# Family having 3 to 5 should be targeted as they are more interested in CV"
   ]
  },
  {
   "cell_type": "markdown",
   "id": "a21ad8be-a7c2-4b33-a0a0-0f8458530fcc",
   "metadata": {},
   "source": [
    "#EV type Preference"
   ]
  },
  {
   "cell_type": "code",
   "execution_count": 179,
   "id": "75723dab-a57f-42cf-8c78-f8588ac0dfd3",
   "metadata": {},
   "outputs": [
    {
     "data": {
      "text/plain": [
       "[Preference for wheels in EV\n",
       " 4    279\n",
       " 2    129\n",
       " 3     44\n",
       " Name: count, dtype: int64,\n",
       " Preference for wheels in EV\n",
       " 4    225\n",
       " 2    100\n",
       " 3     35\n",
       " Name: count, dtype: int64,\n",
       " Preference for wheels in EV\n",
       " 4    4\n",
       " 2    2\n",
       " 3    1\n",
       " Name: count, dtype: int64,\n",
       " Preference for wheels in EV\n",
       " 4    121\n",
       " 2     49\n",
       " 3     11\n",
       " Name: count, dtype: int64]"
      ]
     },
     "execution_count": 179,
     "metadata": {},
     "output_type": "execute_result"
    }
   ],
   "source": [
    "[Cluster_0[\"Preference for wheels in EV\"].value_counts().head(),\n",
    "Cluster_1[\"Preference for wheels in EV\"].value_counts().head(),\n",
    "Cluster_2[\"Preference for wheels in EV\"].value_counts().head(),\n",
    "Cluster_3[\"Preference for wheels in EV\"].value_counts().head()]\n",
    "\n",
    "# 4 wheeler are more preferred EV vehicle in the market\n",
    "# Followed by 2 wheeler and 3 wheeler"
   ]
  },
  {
   "cell_type": "code",
   "execution_count": 181,
   "id": "b9d02ec4-1137-44b5-ac52-631e62f5a133",
   "metadata": {},
   "outputs": [
    {
     "data": {
      "text/plain": [
       "[Which brand of vehicle do you currently own?\n",
       " Tata       83\n",
       " Hyundai    76\n",
       " Honda      70\n",
       " KIA        62\n",
       " Nissan     55\n",
       " Name: count, dtype: int64,\n",
       " Which brand of vehicle do you currently own?\n",
       " Tata       67\n",
       " Hyundai    58\n",
       " KIA        54\n",
       " Honda      49\n",
       " Nissan     46\n",
       " Name: count, dtype: int64,\n",
       " Which brand of vehicle do you currently own?\n",
       " Tata       3\n",
       " KIA        1\n",
       " MG         1\n",
       " Honda      1\n",
       " Hyundai    1\n",
       " Name: count, dtype: int64,\n",
       " Which brand of vehicle do you currently own?\n",
       " Tata       33\n",
       " Hyundai    30\n",
       " KIA        27\n",
       " Honda      24\n",
       " Nissan     21\n",
       " Name: count, dtype: int64]"
      ]
     },
     "execution_count": 181,
     "metadata": {},
     "output_type": "execute_result"
    }
   ],
   "source": [
    "[Cluster_0['Which brand of vehicle do you currently own?'].value_counts().head(),\n",
    " Cluster_1['Which brand of vehicle do you currently own?'].value_counts().head(),\n",
    " Cluster_2['Which brand of vehicle do you currently own?'].value_counts().head(),\n",
    " Cluster_3['Which brand of vehicle do you currently own?'].value_counts().head()]\n",
    "\n",
    "# Tata is the most preferred brand in all the cluster\n",
    "# Hyundai and KIA is the 2nd best preferred brand in the market\n",
    "# Followed by Honda and Nissian"
   ]
  },
  {
   "cell_type": "code",
   "execution_count": 183,
   "id": "9ae583b6-958d-426f-83f6-351609701a80",
   "metadata": {},
   "outputs": [
    {
     "name": "stdout",
     "output_type": "stream",
     "text": [
      "If Yes/Maybe what type of  EV would you prefer?\n",
      "SUV          202\n",
      "Sedan        122\n",
      "Hatchback     63\n",
      "Liftback      49\n",
      "Cabrio        16\n",
      "Name: count, dtype: int64\n",
      "If Yes/Maybe what type of  EV would you prefer?\n",
      "SUV          174\n",
      "Sedan         78\n",
      "Hatchback     56\n",
      "Liftback      42\n",
      "Cabrio        10\n",
      "Name: count, dtype: int64\n",
      "If Yes/Maybe what type of  EV would you prefer?\n",
      "SUV          3\n",
      "Sedan        2\n",
      "Hatchback    1\n",
      "Liftback     1\n",
      "Name: count, dtype: int64\n",
      "If Yes/Maybe what type of  EV would you prefer?\n",
      "SUV          88\n",
      "Sedan        38\n",
      "Liftback     28\n",
      "Hatchback    24\n",
      "Cabrio        3\n",
      "Name: count, dtype: int64\n"
     ]
    }
   ],
   "source": [
    "print(Cluster_0['If Yes/Maybe what type of  EV would you prefer?'].value_counts().head())\n",
    "print(Cluster_1['If Yes/Maybe what type of  EV would you prefer?'].value_counts().head())\n",
    "print(Cluster_2['If Yes/Maybe what type of  EV would you prefer?'].value_counts().head())\n",
    "print(Cluster_3['If Yes/Maybe what type of  EV would you prefer?'].value_counts().head())\n",
    "\n",
    "#Suv and Sedan are the most preferred EV in all the cluster\n",
    "# Followed by Hatchback and Liftback being 2nd preferred EV\n",
    "#Cabrio being the least preferred"
   ]
  },
  {
   "cell_type": "code",
   "execution_count": 185,
   "id": "71f82020-4492-4169-ae78-5ef0c9737cf1",
   "metadata": {},
   "outputs": [
    {
     "data": {
      "text/plain": [
       "[How much money could you spend on an Electronic vehicle?\n",
       " <15 lakhs    227\n",
       " <5 lakhs     134\n",
       " <25 lakhs     52\n",
       " >25 lakhs     15\n",
       " 1200000        7\n",
       " Name: count, dtype: int64,\n",
       " How much money could you spend on an Electronic vehicle?\n",
       " <15 lakhs    158\n",
       " <5 lakhs     103\n",
       " <25 lakhs     68\n",
       " >25 lakhs     14\n",
       " 700000         6\n",
       " Name: count, dtype: int64,\n",
       " How much money could you spend on an Electronic vehicle?\n",
       " <15 lakhs    3\n",
       " <5 lakhs     3\n",
       " <25 lakhs    1\n",
       " Name: count, dtype: int64,\n",
       " How much money could you spend on an Electronic vehicle?\n",
       " <15 lakhs    95\n",
       " <5 lakhs     48\n",
       " <25 lakhs    27\n",
       " >25 lakhs     5\n",
       " 1200000       3\n",
       " Name: count, dtype: int64]"
      ]
     },
     "execution_count": 185,
     "metadata": {},
     "output_type": "execute_result"
    }
   ],
   "source": [
    "[Cluster_0[\"How much money could you spend on an Electronic vehicle?\"].value_counts().head(),\n",
    "Cluster_1[\"How much money could you spend on an Electronic vehicle?\"].value_counts().head(),\n",
    "Cluster_2[\"How much money could you spend on an Electronic vehicle?\"].value_counts().head(),\n",
    "Cluster_3[\"How much money could you spend on an Electronic vehicle?\"].value_counts().head()]"
   ]
  },
  {
   "cell_type": "markdown",
   "id": "58c08cec-f9a5-4af0-b9ab-8ae25b488057",
   "metadata": {},
   "source": [
    "#<15 lakh for EV - 48.3%, <5 lakh for EV - 28.8%, <25 lakh for EV - 14.8%, >25 lakh for EV - 3.4%"
   ]
  },
  {
   "cell_type": "markdown",
   "id": "57f8f546-e10e-4125-a172-d880afff6dd7",
   "metadata": {},
   "source": [
    "#Behavioral Segmentation"
   ]
  },
  {
   "cell_type": "markdown",
   "id": "4e9bd482-c90a-400c-91a8-325dc4250a8b",
   "metadata": {},
   "source": [
    "#Preference for replacing all vehicles to Electronic vehicles?"
   ]
  },
  {
   "cell_type": "code",
   "execution_count": 190,
   "id": "d9c4088a-7472-4331-96a9-b1dffeccaa9e",
   "metadata": {},
   "outputs": [
    {
     "data": {
      "text/plain": [
       "[Would you prefer replacing all your vehicles to Electronic vehicles?\n",
       " Yes      298\n",
       " Maybe     91\n",
       " No        63\n",
       " Name: count, dtype: int64,\n",
       " Would you prefer replacing all your vehicles to Electronic vehicles?\n",
       " Yes      234\n",
       " Maybe     74\n",
       " No        52\n",
       " Name: count, dtype: int64,\n",
       " Would you prefer replacing all your vehicles to Electronic vehicles?\n",
       " Yes    7\n",
       " Name: count, dtype: int64,\n",
       " Would you prefer replacing all your vehicles to Electronic vehicles?\n",
       " Yes      124\n",
       " Maybe     36\n",
       " No        21\n",
       " Name: count, dtype: int64]"
      ]
     },
     "execution_count": 190,
     "metadata": {},
     "output_type": "execute_result"
    }
   ],
   "source": [
    "[Cluster_0[\"Would you prefer replacing all your vehicles to Electronic vehicles?\"].value_counts().head(),\n",
    "Cluster_1[\"Would you prefer replacing all your vehicles to Electronic vehicles?\"].value_counts().head(),\n",
    "Cluster_2[\"Would you prefer replacing all your vehicles to Electronic vehicles?\"].value_counts().head(),\n",
    "Cluster_3[\"Would you prefer replacing all your vehicles to Electronic vehicles?\"].value_counts().head()]"
   ]
  },
  {
   "cell_type": "markdown",
   "id": "45c0bbb9-4ca3-4fd0-ad57-6f1e980ac48d",
   "metadata": {},
   "source": [
    "##If Yes/Maybe what type of EV would you prefer?"
   ]
  },
  {
   "cell_type": "code",
   "execution_count": 193,
   "id": "31b9c404-6287-4dc8-8a82-d6a15a9dcf0b",
   "metadata": {},
   "outputs": [
    {
     "data": {
      "text/plain": [
       "[If Yes/Maybe what type of  EV would you prefer?\n",
       " SUV          202\n",
       " Sedan        122\n",
       " Hatchback     63\n",
       " Liftback      49\n",
       " Cabrio        16\n",
       " Name: count, dtype: int64,\n",
       " If Yes/Maybe what type of  EV would you prefer?\n",
       " SUV          174\n",
       " Sedan         78\n",
       " Hatchback     56\n",
       " Liftback      42\n",
       " Cabrio        10\n",
       " Name: count, dtype: int64,\n",
       " If Yes/Maybe what type of  EV would you prefer?\n",
       " SUV          3\n",
       " Sedan        2\n",
       " Hatchback    1\n",
       " Liftback     1\n",
       " Name: count, dtype: int64,\n",
       " If Yes/Maybe what type of  EV would you prefer?\n",
       " SUV          88\n",
       " Sedan        38\n",
       " Liftback     28\n",
       " Hatchback    24\n",
       " Cabrio        3\n",
       " Name: count, dtype: int64]"
      ]
     },
     "execution_count": 193,
     "metadata": {},
     "output_type": "execute_result"
    }
   ],
   "source": [
    "[Cluster_0[\"If Yes/Maybe what type of  EV would you prefer?\"].value_counts().head(),\n",
    "Cluster_1[\"If Yes/Maybe what type of  EV would you prefer?\"].value_counts().head(),\n",
    "Cluster_2[\"If Yes/Maybe what type of  EV would you prefer?\"].value_counts().head(),\n",
    "Cluster_3[\"If Yes/Maybe what type of  EV would you prefer?\"].value_counts().head()]"
   ]
  },
  {
   "cell_type": "markdown",
   "id": "d234ec22-7fa0-4c4e-ae8a-f9864e52123e",
   "metadata": {},
   "source": [
    "#Do you think Electronic Vehicles are economical?"
   ]
  },
  {
   "cell_type": "code",
   "execution_count": 196,
   "id": "cb916572-dcd9-4aac-83a7-a9c956607853",
   "metadata": {},
   "outputs": [
    {
     "data": {
      "text/plain": [
       "[Do you think Electronic Vehicles are economical?\n",
       " Yes      349\n",
       " Maybe     54\n",
       " No        49\n",
       " Name: count, dtype: int64,\n",
       " Do you think Electronic Vehicles are economical?\n",
       " Yes      278\n",
       " Maybe     43\n",
       " No        39\n",
       " Name: count, dtype: int64,\n",
       " Do you think Electronic Vehicles are economical?\n",
       " Yes      4\n",
       " Maybe    2\n",
       " No       1\n",
       " Name: count, dtype: int64,\n",
       " Do you think Electronic Vehicles are economical?\n",
       " Yes      137\n",
       " Maybe     24\n",
       " No        20\n",
       " Name: count, dtype: int64]"
      ]
     },
     "execution_count": 196,
     "metadata": {},
     "output_type": "execute_result"
    }
   ],
   "source": [
    "[Cluster_0[\"Do you think Electronic Vehicles are economical?\"].value_counts().head(),\n",
    "Cluster_1[\"Do you think Electronic Vehicles are economical?\"].value_counts().head(),\n",
    "Cluster_2[\"Do you think Electronic Vehicles are economical?\"].value_counts().head(),\n",
    "Cluster_3[\"Do you think Electronic Vehicles are economical?\"].value_counts().head()]"
   ]
  },
  {
   "cell_type": "markdown",
   "id": "677b86f0-3781-4d3c-b376-b89f64f43a8c",
   "metadata": {},
   "source": [
    "#Do you think Electronic vehicles will replace fuel cars in India?"
   ]
  },
  {
   "cell_type": "code",
   "execution_count": 199,
   "id": "052d3eba-86ed-4651-88f3-df63b0aa1c8a",
   "metadata": {},
   "outputs": [
    {
     "data": {
      "text/plain": [
       "[Do you think Electronic vehicles will replace fuel cars in India?\n",
       " Yes, in <10 years               190\n",
       " Yes, in <20years                184\n",
       " Yes, possibly after 20 years     58\n",
       " I don't think so                 20\n",
       " Name: count, dtype: int64,\n",
       " Do you think Electronic vehicles will replace fuel cars in India?\n",
       " Yes, in <10 years               154\n",
       " Yes, in <20years                131\n",
       " Yes, possibly after 20 years     51\n",
       " I don't think so                 24\n",
       " Name: count, dtype: int64,\n",
       " Do you think Electronic vehicles will replace fuel cars in India?\n",
       " Yes, in <10 years               4\n",
       " Yes, possibly after 20 years    2\n",
       " Yes, in <20years                1\n",
       " Name: count, dtype: int64,\n",
       " Do you think Electronic vehicles will replace fuel cars in India?\n",
       " Yes, in <10 years               71\n",
       " Yes, in <20years                71\n",
       " Yes, possibly after 20 years    21\n",
       " I don't think so                18\n",
       " Name: count, dtype: int64]"
      ]
     },
     "execution_count": 199,
     "metadata": {},
     "output_type": "execute_result"
    }
   ],
   "source": [
    "[Cluster_0[\"Do you think Electronic vehicles will replace fuel cars in India?\"].value_counts().head(),\n",
    "Cluster_1[\"Do you think Electronic vehicles will replace fuel cars in India?\"].value_counts().head(),\n",
    "Cluster_2[\"Do you think Electronic vehicles will replace fuel cars in India?\"].value_counts().head(),\n",
    "Cluster_3[\"Do you think Electronic vehicles will replace fuel cars in India?\"].value_counts().head()]"
   ]
  },
  {
   "cell_type": "code",
   "execution_count": null,
   "id": "841d9cf4-5098-4b25-9443-abffea775d46",
   "metadata": {},
   "outputs": [],
   "source": []
  }
 ],
 "metadata": {
  "kernelspec": {
   "display_name": "Python 3 (ipykernel)",
   "language": "python",
   "name": "python3"
  },
  "language_info": {
   "codemirror_mode": {
    "name": "ipython",
    "version": 3
   },
   "file_extension": ".py",
   "mimetype": "text/x-python",
   "name": "python",
   "nbconvert_exporter": "python",
   "pygments_lexer": "ipython3",
   "version": "3.9.20"
  }
 },
 "nbformat": 4,
 "nbformat_minor": 5
}
